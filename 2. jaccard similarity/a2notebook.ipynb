{
 "cells": [
  {
   "cell_type": "markdown",
   "metadata": {
    "deletable": false,
    "editable": false,
    "nbgrader": {
     "cell_type": "markdown",
     "checksum": "0d1da932c04875c5ad53295cdcc71043",
     "grade": false,
     "grade_id": "cell-e7c4ba72adf31577",
     "locked": true,
     "schema_version": 3,
     "solution": false
    }
   },
   "source": [
    "# Assignment 2: Keeping Up With Social Information (Part 2)\n",
    "## © Cristian Danescu-Niculescu-Mizil 2020\n",
    "## CS/INFO 4300 Language and Information\n",
    "## Due by midnight on Wednesday February 5th\n",
    "\n",
    "This assignment is **individual**.\n",
    "\n",
    "In this assignment we will further build upon our analysis of the transcripts from the reality TV show \"Keeping Up With The Kardashians\" from where we left off since Assignment 1. We will try to uncover some simple social dynamics that are shown through language using various statistical and linguistic techniques to better understand conversational behavior.\n",
    "\n",
    "**Learning Objectives**\n",
    "\n",
    "This project aims to help you get comfortable working with the following tools / technologies / concepts:\n",
    "\n",
    "* Text similarity measures (standard/generalized Jaccard similarity)\n",
    "* Plotting heatmaps in `matplotlib`\n",
    "* Advanced numpy functionality\n",
    "* Interaction strength\n",
    "* Social interaction analysis \n",
    "* Character priming\n",
    "* Conversation analysis \n",
    "\n",
    "**Academic Integrity and Collaboration**\n",
    "\n",
    "Note that these projects should be completed individually. As a result, all University-standard academic integrity guidelines must be followed.\n",
    "\n",
    "**Guidelines**\n",
    "\n",
    "All cells that contain the blocks that read `# YOUR CODE HERE` are editable and are to be completed to ensure you pass the test-cases. Make sure to write your code where indicated.\n",
    "\n",
    "All cells that read `YOUR ANSWER HERE` are free-response cells that are editable and are to be completed.\n",
    "\n",
    "You may use any number of notebook cells to explore the data and test out your functions, although you will only be graded on the solution itself.\n",
    "\n",
    "You are unable to modify the read-only cells.\n",
    "\n",
    "Do not delete the cells for optional questions, even if you do not choose to answer them.\n",
    "\n",
    "You should also use Markdown cells to explain your code and discuss your results when necessary.\n",
    "Instructions can be found [here](http://jupyter-notebook.readthedocs.io/en/latest/examples/Notebook/Working%20With%20Markdown%20Cells.html).\n",
    "\n",
    "All floating point values should be printed with **2 decimal places** precision. You can do so using the built-in round function.\n",
    "\n",
    "**Grading**\n",
    "\n",
    "For code-completion questions you will be graded on passing the public test cases we have included, as well as any hidden test cases that we have supplemented within a given amount of time to ensure that your logic is correct.\n",
    "\n",
    "For free-response questions you will be manually graded on the quality of your answer.\n",
    "\n",
    "**Submission**\n",
    "\n",
    "This entire notebook is expected to run with an upper bound being ~1-2 minutes.\n",
    "\n",
    "Also make sure to remove any **redundant print statements** to speed things up and prevent generating unnecessary outputs.\n",
    "\n",
    "You are expected to submit this .ipynb as your submission for Assignment 2. \n",
    "\n",
    "In addition please submit an html copy of the notebook (You can create this by clicking File > Download as > HTML (.html))."
   ]
  },
  {
   "cell_type": "code",
   "execution_count": 392,
   "metadata": {
    "deletable": false,
    "editable": false,
    "nbgrader": {
     "cell_type": "code",
     "checksum": "e4cbc8660e4ecb4e7d2f743a69c73714",
     "grade": false,
     "grade_id": "cell-97b1c5e4f7df612c",
     "locked": true,
     "schema_version": 3,
     "solution": false
    }
   },
   "outputs": [],
   "source": [
    "import re\n",
    "import json\n",
    "import os\n",
    "from io import StringIO\n",
    "import pickle\n",
    "\n",
    "import numpy as np\n",
    "%matplotlib inline\n",
    "import matplotlib.pyplot as plt\n",
    "# Imports that might help with various functionality\n",
    "import functools\n",
    "import operator\n",
    "\n",
    "# For testing\n",
    "from numpy.testing import assert_almost_equal "
   ]
  },
  {
   "cell_type": "code",
   "execution_count": 393,
   "metadata": {
    "deletable": false,
    "editable": false,
    "nbgrader": {
     "cell_type": "code",
     "checksum": "f43944ca7e2ba29b18c82a019e743fea",
     "grade": false,
     "grade_id": "cell-7114417ecfb57e62",
     "locked": true,
     "schema_version": 3,
     "solution": false
    }
   },
   "outputs": [],
   "source": [
    "import sys\n",
    "# Ensure that your kernel is using Python3\n",
    "assert sys.version_info.major == 3"
   ]
  },
  {
   "cell_type": "markdown",
   "metadata": {
    "deletable": false,
    "editable": false,
    "nbgrader": {
     "cell_type": "markdown",
     "checksum": "d3f3f7296f6a97eb8decb97122804e8a",
     "grade": false,
     "grade_id": "cell-b9584a9a5df87291",
     "locked": true,
     "schema_version": 3,
     "solution": false
    }
   },
   "source": [
    "To ensure that you are comfortable moving forward. Make sure that you are familair with the following data structures that were defined in Assignment 1, as you will be using these throughout Assignment 2:\n",
    "* deduped_transcripts\n",
    "* good_types\n",
    "* word_matrix\n",
    "* good_speakers"
   ]
  },
  {
   "cell_type": "code",
   "execution_count": 394,
   "metadata": {
    "deletable": false,
    "editable": false,
    "nbgrader": {
     "cell_type": "code",
     "checksum": "e27380f024fd7e03f62778ef26907fb4",
     "grade": false,
     "grade_id": "cell-e31168ecff8580a3",
     "locked": true,
     "schema_version": 3,
     "solution": false
    }
   },
   "outputs": [],
   "source": [
    "## We are loading: deduped transcripts from Assignment 1\n",
    "with open('deduped_transcripts.pickle', 'rb') as f:\n",
    "    deduped_transcripts = pickle.load(f)\n",
    "## We are loading: the good_types from Assignment 1\n",
    "with open('good_types.pickle', 'rb') as f:\n",
    "    good_types = pickle.load(f) \n",
    "n_good_types = len(good_types)\n",
    "## We are loading: the word_matrix from Assignment 1\n",
    "with open('word_matrix.pickle', 'rb') as f:\n",
    "    word_matrix = pickle.load(f) \n",
    "good_speakers = [u'BRUCE',\n",
    "                 u'JONATHAN',\n",
    "                 u'KHLOE',\n",
    "                 u'KIM',\n",
    "                 u'KOURTNEY',\n",
    "                 u'KRIS',\n",
    "                 u'ROBERT',\n",
    "                 u'SCOTT']\n",
    "n_good_speakers = len(good_speakers)"
   ]
  },
  {
   "cell_type": "code",
   "execution_count": 395,
   "metadata": {
    "deletable": false,
    "editable": false,
    "nbgrader": {
     "cell_type": "code",
     "checksum": "262bf9d517c30bfcf194f026c00b534f",
     "grade": false,
     "grade_id": "cell-59e3bcaa15cf7e4f",
     "locked": true,
     "schema_version": 3,
     "solution": false
    }
   },
   "outputs": [],
   "source": [
    "# Ensure that the pickled data stuctures are correct\n",
    "assert type(deduped_transcripts[0]) == tuple\n",
    "assert n_good_types == 4517\n",
    "assert n_good_speakers == 8"
   ]
  },
  {
   "cell_type": "markdown",
   "metadata": {
    "deletable": false,
    "editable": false,
    "nbgrader": {
     "cell_type": "markdown",
     "checksum": "bab8d35fd4daefcda04b0a1ceab4465a",
     "grade": false,
     "grade_id": "cell-5d95eab0b7441c94",
     "locked": true,
     "schema_version": 3,
     "solution": false
    }
   },
   "source": [
    "# Character interaction analysis\n",
    "\n",
    "## Question 1 (Code Completion): Character Similarity w/ Jaccard\n",
    "We will begin by looking at which characters speak most similarly to each other. To analyze this, you will build a symmetric character-by-character matrix showing how similar each pair of characters is, then plot this matrix as a heatmap using `matplotlib imshow`. We will be using Jaccard similarity for this analysis. \n",
    "\n",
    "Jaccard similarity is a metric for comparing sets:\n",
    "\n",
    "$$ J(A, B) = \\frac{|A \\cap B|}{|A \\cup B|} $$\n",
    "\n",
    "To fit the definition, we represent a character as a set of all words they use (as usual, we only consider \"good types\"). Note that this formulation involves disregarding how many *times* a speaker said a word.\n",
    "\n",
    "Therefore, the definition can be rewritten as:\n",
    "\n",
    "$$ J(A, B) = \\frac{\\sum_{w \\in \\text{good types}} w \\in A \\,\\text{and}\\, w \\in B}\n",
    "{\\sum_{w \\in \\text{good types}}w \\in A \\,\\text{or}\\, w \\in B} $$\n",
    "\n",
    "Since set intersection and union are symmetric operations, it follows that Jaccard similarity is also a symmetric. So:\n",
    "\n",
    "$$ J(A, B) = J(B, A) $$\n",
    "\n",
    "In the cell below, fulfill the function specification:"
   ]
  },
  {
   "cell_type": "code",
   "execution_count": 637,
   "metadata": {
    "deletable": false,
    "nbgrader": {
     "cell_type": "code",
     "checksum": "6960b8794342c3df7c7bc20e72c004f3",
     "grade": false,
     "grade_id": "create_j_sim_mat",
     "locked": false,
     "schema_version": 3,
     "solution": true
    }
   },
   "outputs": [],
   "source": [
    "def create_j_sim_mat(input_n_speakers, input_word_matrix, input_good_types):\n",
    "    \"\"\"Returns a numpy array of shape n_speakers by n_speakers such that the \n",
    "    entry (i,j) indicates the Jaccard similarity between speakers i and j.\n",
    "    \n",
    "    Hint: Use numpy primitives. Recall that input_word_matrix is of dimension\n",
    "    n_good_speakers x n_good_types, where (i,j) is the number of times speaker i\n",
    "    says word j\n",
    "\n",
    "    \n",
    "    Params: {input_n_speakers: Integer,\n",
    "             input_word_matrix: Numpy array,\n",
    "             input_good_types: List}\n",
    "    Returns: Numpy array\n",
    "    \"\"\"\n",
    "    # YOUR CODE HERE\n",
    "    J = np.zeros([input_n_speakers, input_n_speakers])\n",
    "    for i in range(input_n_speakers):\n",
    "        for j in range(input_n_speakers):\n",
    "            common_words = []\n",
    "            dot_product = input_word_matrix[i]*input_word_matrix[j]\n",
    "            for item in dot_product:\n",
    "                if item !=0:\n",
    "                    common_words.append(item)\n",
    "                    \n",
    "            total_words = []\n",
    "            array_sum = input_word_matrix[i]+input_word_matrix[j]\n",
    "            for item in array_sum:\n",
    "                if item !=0:\n",
    "                    total_words.append(item)\n",
    "                    \n",
    "            J[i,j] = len(common_words)/len(total_words)\n",
    "    return J"
   ]
  },
  {
   "cell_type": "code",
   "execution_count": 638,
   "metadata": {
    "deletable": false,
    "editable": false,
    "nbgrader": {
     "cell_type": "code",
     "checksum": "9e13d3bfd0b733646bbabfe8d1d891d4",
     "grade": false,
     "grade_id": "cell-8e9bf7fa52dc0f25",
     "locked": true,
     "schema_version": 3,
     "solution": false
    }
   },
   "outputs": [],
   "source": [
    "j_sim_matrix = create_j_sim_mat(n_good_speakers, word_matrix, good_types)"
   ]
  },
  {
   "cell_type": "code",
   "execution_count": 639,
   "metadata": {
    "deletable": false,
    "editable": false,
    "nbgrader": {
     "cell_type": "code",
     "checksum": "5e569c05a9b1b49ed82c97f59114f5dd",
     "grade": true,
     "grade_id": "create_j_sim_mat_test",
     "locked": true,
     "points": 20,
     "schema_version": 3,
     "solution": false
    }
   },
   "outputs": [],
   "source": [
    "# This is an autograder test. Here we can test the function you just wrote above.\n",
    "\"\"\"Check that create_j_sim_mat returns the correct output\"\"\"\n",
    "assert type(j_sim_matrix) == np.ndarray\n",
    "assert j_sim_matrix.shape == (8, 8)\n",
    "assert j_sim_matrix[4][4] == 1\n",
    "assert_almost_equal(round(j_sim_matrix[2][5], 1), 0.5)"
   ]
  },
  {
   "cell_type": "markdown",
   "metadata": {
    "deletable": false,
    "editable": false,
    "nbgrader": {
     "cell_type": "markdown",
     "checksum": "cd4129a34e87a2faec825bbd6bd40b17",
     "grade": false,
     "grade_id": "cell-bb6bcb9cc0b99177",
     "locked": true,
     "schema_version": 3,
     "solution": false,
     "task": false
    }
   },
   "source": [
    "To make our heatmap more interpretable we have explicitly set the range of our heatmap gradient using `vmin` and `vmax`. This means that values less than `vmin` will have the same shade as `vmin` (white) and that values more than `vmax` will have the same shade as `vmax` (black).\n",
    "\n",
    "Try varying `vmin` and `vmax` to get a better sense of speaker similarities."
   ]
  },
  {
   "cell_type": "code",
   "execution_count": 640,
   "metadata": {
    "deletable": false,
    "editable": false,
    "nbgrader": {
     "cell_type": "code",
     "checksum": "72c513048c5e319599e9c63d039dbd66",
     "grade": false,
     "grade_id": "cell-bd902e9aa1b307b1",
     "locked": true,
     "schema_version": 3,
     "solution": false
    }
   },
   "outputs": [
    {
     "data": {
      "image/png": "[encoded data removed]",
      "text/plain": [
       "<Figure size 432x288 with 2 Axes>"
      ]
     },
     "metadata": {},
     "output_type": "display_data"
    }
   ],
   "source": [
    "plt.imshow(j_sim_matrix, interpolation='none',\n",
    "           cmap=plt.cm.Greys, vmin=0, vmax=0.6)\n",
    "plt.colorbar()\n",
    "\n",
    "plt.xticks(range(n_good_speakers), good_speakers, rotation=90)\n",
    "plt.yticks(range(n_good_speakers), good_speakers)\n",
    "plt.show()"
   ]
  },
  {
   "cell_type": "markdown",
   "metadata": {
    "deletable": false,
    "editable": false,
    "nbgrader": {
     "cell_type": "markdown",
     "checksum": "eb86e725cc5cfc2da6d58a41472d5753",
     "grade": false,
     "grade_id": "cell-154d61b3f119a006",
     "locked": true,
     "schema_version": 3,
     "solution": false
    }
   },
   "source": [
    "## Question 1b (Code Completion) Character Similarity w/ Jaccard\n",
    "To better understand the relative uniqueness of speakers, we will examine average similarity measurements for each character. You will build a dictionary that contains the mean similarity measurement for each speaker ignoring the speaker's self-similarity measurement. This function should take an arbitrary matrix (for the sake of future analysis that we will do) that is ordered by `good_speakers`.\n",
    "\n",
    "Please define the function below which returns a dictionary with the following format:\n",
    "\n",
    "```\n",
    "{(CHARACTER_NAME_A): avg_score_a,\n",
    " (CHARACTER_NAME_B): avg_score_b,\n",
    "...}\n",
    "```"
   ]
  },
  {
   "cell_type": "code",
   "execution_count": 641,
   "metadata": {
    "deletable": false,
    "nbgrader": {
     "cell_type": "code",
     "checksum": "915ea5f0fcdc514353176e3acf24bf4f",
     "grade": false,
     "grade_id": "avg_sim_dict",
     "locked": false,
     "schema_version": 3,
     "solution": true,
     "task": false
    }
   },
   "outputs": [],
   "source": [
    "def avg_sim_dict(input_sim_matrix, input_good_speakers):\n",
    "    \"\"\"Returns a dictionary with the keys being speakers and the values being\n",
    "    that character's average similarity scores with all other characters.\n",
    "    \n",
    "    Params: {input_sim_matrix: Numpy Array,\n",
    "             input_good_speakers: List}\n",
    "    Returns Dict\n",
    "    \"\"\"\n",
    "    # YOUR CODE HERE\n",
    "    dic = {}\n",
    "    input_sim_matrix_dup =  np.copy(input_sim_matrix)\n",
    "    np.fill_diagonal(input_sim_matrix_dup, 0)\n",
    "    avg= []\n",
    "    \n",
    "    for i in range(len(input_good_speakers)):\n",
    "        M = np.sum(input_sim_matrix_dup[:,i])/(len(input_good_speakers)-1)\n",
    "        avg.append(M)\n",
    "    for i in range(len(input_good_speakers)):\n",
    "        dic[input_good_speakers[i]] = avg[i]\n",
    "    return dic"
   ]
  },
  {
   "cell_type": "code",
   "execution_count": 642,
   "metadata": {
    "deletable": false,
    "editable": false,
    "nbgrader": {
     "cell_type": "code",
     "checksum": "723e2bd9c8b9303dda0799816a013daf",
     "grade": false,
     "grade_id": "cell-763a9abe474f72b9",
     "locked": true,
     "schema_version": 3,
     "solution": false,
     "task": false
    }
   },
   "outputs": [],
   "source": [
    "avg_jaccard_sim_dict = avg_sim_dict(j_sim_matrix, good_speakers)"
   ]
  },
  {
   "cell_type": "code",
   "execution_count": 643,
   "metadata": {
    "deletable": false,
    "editable": false,
    "nbgrader": {
     "cell_type": "code",
     "checksum": "74464be1845f613d249fca3b2d2fba1d",
     "grade": true,
     "grade_id": "avg_sim_dict_test",
     "locked": true,
     "points": 5,
     "schema_version": 3,
     "solution": false
    }
   },
   "outputs": [],
   "source": [
    "# This is an autograder test. Here we can test the function you just wrote above.\n",
    "\"\"\"Check that sim_dict returns the correct output\"\"\"\n",
    "assert type(avg_jaccard_sim_dict) == dict\n",
    "assert avg_jaccard_sim_dict['JONATHAN'] > 0.2\n",
    "assert avg_jaccard_sim_dict['KHLOE'], 1 > 0.4"
   ]
  },
  {
   "cell_type": "markdown",
   "metadata": {
    "deletable": false,
    "editable": false,
    "nbgrader": {
     "cell_type": "markdown",
     "checksum": "a813a0ae25f91a150adb87d09a631b9d",
     "grade": false,
     "grade_id": "cell-53f490ab01863601",
     "locked": true,
     "schema_version": 3,
     "solution": false,
     "task": false
    }
   },
   "source": [
    "## Question 1c (Code Completion): Character Similarity w/ Jaccard\n",
    "\n",
    "To more easily analyze the relative uniqueness of speakers, where the most unique speaker is the most dissimilar (i.e. lowest similarity score) to the other speakers. We will take an input average similarity dictionary and return the most and least unique speakers and their corresponding average similarity scores. As a result, we want to return a tuple of tuples in the following format:\n",
    "```\n",
    "((MOST_UNIQUE_CHARACTER_NAME, LEAST_SIM_SCORE),\n",
    " (LEAST_UNIQUE_CHARACTER_NAME, MOST_SIM_SCORE))\n",
    "```"
   ]
  },
  {
   "cell_type": "code",
   "execution_count": 644,
   "metadata": {
    "deletable": false,
    "nbgrader": {
     "cell_type": "code",
     "checksum": "84dbd2b962f2afca787c47c524e7988c",
     "grade": false,
     "grade_id": "most_least_sim_pairs",
     "locked": false,
     "schema_version": 3,
     "solution": true
    }
   },
   "outputs": [],
   "source": [
    "def most_least_unique_characters(input_avg_sim_dict):\n",
    "    \"\"\"Returns a tuple which shows the most and least unique characters. \n",
    "\n",
    "    The desired tuple format should be the following\n",
    "        ((MOST_UNIQUE_CHARACTER_NAME, LEAST_SIM_SCORE),\n",
    "         (LEAST_UNIQUE_CHARACTER_NAME, MOST_SIM_SCORE))\n",
    "    \n",
    "    Params: {input_avg_sim_dict: Dict}\n",
    "    Returns: Tuple\n",
    "    \"\"\"\n",
    "    # YOUR CODE HERE\n",
    "    a= np.argmin(list(avg_jaccard_sim_dict.values()))\n",
    "    b= np.argmax(list(avg_jaccard_sim_dict.values()))\n",
    "    return ((good_speakers[a],list(input_avg_sim_dict.values())[a]), (good_speakers[b], list(input_avg_sim_dict.values())[b]))"
   ]
  },
  {
   "cell_type": "code",
   "execution_count": 645,
   "metadata": {
    "deletable": false,
    "editable": false,
    "nbgrader": {
     "cell_type": "code",
     "checksum": "e2959be27e048470587b857a7b6ac445",
     "grade": false,
     "grade_id": "cell-22808a2d32cae4ec",
     "locked": true,
     "schema_version": 3,
     "solution": false
    }
   },
   "outputs": [
    {
     "name": "stdout",
     "output_type": "stream",
     "text": [
      "MOST UNIQUE: JONATHAN - 0.26\n",
      "LEAST UNIQUE: KIM - 0.41\n"
     ]
    }
   ],
   "source": [
    "most_least_tup = most_least_unique_characters(avg_jaccard_sim_dict)\n",
    "print(\"MOST UNIQUE: {} - {:.2f}\".format(*most_least_tup[0]))\n",
    "print(\"LEAST UNIQUE: {} - {:.2f}\".format(*most_least_tup[1]))"
   ]
  },
  {
   "cell_type": "code",
   "execution_count": 646,
   "metadata": {
    "deletable": false,
    "editable": false,
    "nbgrader": {
     "cell_type": "code",
     "checksum": "7da574fed2686839a996d887ebabdc37",
     "grade": true,
     "grade_id": "most_least_sim_pairs_test",
     "locked": true,
     "points": 5,
     "schema_version": 3,
     "solution": false
    }
   },
   "outputs": [],
   "source": [
    "# This is an autograder test. Here we can test the function you just wrote above.\n",
    "\"\"\"Check that most_least_sim_pairs returns the correct output\"\"\"\n",
    "assert type(most_least_tup) == tuple\n",
    "assert len(most_least_tup) == 2"
   ]
  },
  {
   "cell_type": "markdown",
   "metadata": {
    "deletable": false,
    "editable": false,
    "nbgrader": {
     "cell_type": "markdown",
     "checksum": "8c4b641c40442039e1a38daf92cc9747",
     "grade": false,
     "grade_id": "cell-4a1ac2a746651c3a",
     "locked": true,
     "schema_version": 3,
     "solution": false,
     "task": false
    }
   },
   "source": [
    "## Question 2 (Code Completion): Character Similarity w/ Generalized Jaccard\n",
    "The similarity measure that we took above doesn't take into account how often the characters say a word. To account for this, we can use Generalized Jaccard, an extension of Jaccard to weighted sets.\n",
    "\n",
    "For each word $w$ and each character $C$, we compute the frequency weight $\\text{tf}(w, C)$ as the ratio between the number of times $C$ says the word $w$, and the total number of words (good types) said by $C$. For example, if we had a character named Ned, and all of the words that he said were \"my name is ned stark of house stark\" the $\\text{tf}(stark, ned)$ would be $\\frac{2}{8}$\n",
    "\n",
    "Generalized Jaccard is:\n",
    "\n",
    "$$ GJ(A, B) = \\frac{\\sum_{w \\in \\text{good types}} \\text{min}(\\text{tf}(w, A), \\text{tf}(w, B))}\n",
    "{\\sum_{w \\in \\text{good types}} \\text{max}(\\text{tf}(w, A), \\text{tf}(w, B))} $$\n",
    "\n",
    "Note that Jaccard is equivalent to Generalized Jaccard if the weights are binarized by truncating all positive weights to 1.\n",
    "\n",
    "Firstly, you will begin by defining a `tf` function below. "
   ]
  },
  {
   "cell_type": "code",
   "execution_count": 647,
   "metadata": {
    "deletable": false,
    "editable": false,
    "nbgrader": {
     "cell_type": "code",
     "checksum": "a2b01776c97c47dcb419761987b0f1ac",
     "grade": false,
     "grade_id": "cell-b1655b99d99e8344",
     "locked": true,
     "schema_version": 3,
     "solution": false,
     "task": false
    }
   },
   "outputs": [],
   "source": [
    "# To help you, we have incuded this variable which is an inverse index for good_types\n",
    "good_types_reverse_index = {t: i for i, t in enumerate(good_types)}"
   ]
  },
  {
   "cell_type": "code",
   "execution_count": 648,
   "metadata": {
    "deletable": false,
    "nbgrader": {
     "cell_type": "code",
     "checksum": "60ccc62387fe555f0ee209b123ec6ceb",
     "grade": false,
     "grade_id": "tf_def",
     "locked": false,
     "schema_version": 3,
     "solution": true
    }
   },
   "outputs": [],
   "source": [
    "def tf(word_w, character_c, input_word_matrix):\n",
    "    \"\"\" This function determines the term frequency weight which is the \n",
    "    ratio between the number of times an input character C says word W and \n",
    "    the total number of words said by character C.\n",
    "    \n",
    "    Note: Look at the example in the cell above with: tf(stark,ned). \n",
    "          Please use full precision in your answer (do not round). \n",
    "          You should use the global variable: good_types_reverse_index\n",
    "          in this function... for the sake of making a smaller arg list.\n",
    "          This is different from the (unnormalized) TF you have seen in class.\n",
    "    \n",
    "    Params: {word_w: String,\n",
    "             character_c: Integer (Index within good_speakers),\n",
    "             input_word_matrix: Numpy array}\n",
    "    Returns: Float\n",
    "    \"\"\"\n",
    "    # YOUR CODE HERE\n",
    "    return input_word_matrix[character_c][good_types_reverse_index[word_w]]/(np.sum(input_word_matrix[character_c]))"
   ]
  },
  {
   "cell_type": "code",
   "execution_count": 649,
   "metadata": {
    "deletable": false,
    "editable": false,
    "nbgrader": {
     "cell_type": "code",
     "checksum": "16a305a31c4527c1530fcfbef1e6a9de",
     "grade": true,
     "grade_id": "tf_def_test",
     "locked": true,
     "points": 10,
     "schema_version": 3,
     "solution": false
    }
   },
   "outputs": [],
   "source": [
    "# This is an autograder test. Here we can test the function you just wrote above.\n",
    "\"\"\"Check that tf returns the correct output\"\"\"\n",
    "assert tf('hi', 3, word_matrix)*100 > 0.10"
   ]
  },
  {
   "cell_type": "markdown",
   "metadata": {
    "deletable": false,
    "editable": false,
    "nbgrader": {
     "cell_type": "markdown",
     "checksum": "d05e508a0ba24deaae8c030627d9f0ff",
     "grade": false,
     "grade_id": "cell-21fd8ca300d881a3",
     "locked": true,
     "schema_version": 3,
     "solution": false
    }
   },
   "source": [
    "## Question 2b (Code Completion): Character Similarity w/ Generalized Jaccard\n",
    "Now you will complete the function specification below, which will return a numpy array \n",
    "of character similarities computed via Generalized Jaccard"
   ]
  },
  {
   "cell_type": "code",
   "execution_count": 650,
   "metadata": {
    "deletable": false,
    "nbgrader": {
     "cell_type": "code",
     "checksum": "b463615ec1bc212d7017688306340181",
     "grade": false,
     "grade_id": "create_g_j_sim_mat",
     "locked": false,
     "schema_version": 3,
     "solution": true
    }
   },
   "outputs": [],
   "source": [
    "def create_g_j_sim_mat(tf_method, input_word_matrix, input_good_types, input_n_speakers):\n",
    "    \"\"\"Returns a numpy array of shape n_speakers by n_speakers such that the \n",
    "    entry (i,j) indicates the Generalized Jaccard similarity between speakers i and j.\n",
    "    \n",
    "    Hint: Use numpy primitives and use the tf_method sparingly\n",
    "    \n",
    "    Params: {tf_method: Function (a,b,c) -> d,\n",
    "             input_word_matrix: Numpy Array,\n",
    "             input_good_types: List,\n",
    "             input_n_speakers: Integer}\n",
    "    Returns: Numpy Array\n",
    "    \"\"\"\n",
    "    # YOUR CODE HERE\n",
    "    tf_array = input_word_matrix / np.sum(input_word_matrix, axis=1).reshape((8, 1))\n",
    "\n",
    "    J  = np.zeros((input_n_speakers, input_n_speakers))\n",
    "    for i in range(input_n_speakers):\n",
    "        for j in range(input_n_speakers):\n",
    "            J[i][j] = np.sum(np.min(tf_array[[i,j],:], axis=0))/np.sum(np.max(tf_array[[i,j], :], axis=0))\n",
    "    return J"
   ]
  },
  {
   "cell_type": "code",
   "execution_count": 651,
   "metadata": {
    "deletable": false,
    "editable": false,
    "nbgrader": {
     "cell_type": "code",
     "checksum": "613f5118617c320645eaa6ae50ea54cb",
     "grade": false,
     "grade_id": "cell-5b20f9c68ba808c0",
     "locked": true,
     "schema_version": 3,
     "solution": false
    }
   },
   "outputs": [],
   "source": [
    "g_j_sim_matrix = create_g_j_sim_mat(tf, word_matrix, good_types, n_good_speakers)\n",
    "g_avg_jaccard_sim_dict = avg_sim_dict(g_j_sim_matrix, good_speakers)"
   ]
  },
  {
   "cell_type": "code",
   "execution_count": 652,
   "metadata": {
    "deletable": false,
    "editable": false,
    "nbgrader": {
     "cell_type": "code",
     "checksum": "43359afb3a3511a42a545335b4de6374",
     "grade": false,
     "grade_id": "cell-2d1a780bc392a053",
     "locked": true,
     "schema_version": 3,
     "solution": false
    }
   },
   "outputs": [
    {
     "name": "stdout",
     "output_type": "stream",
     "text": [
      "MOST UNIQUE: JONATHAN - 0.54\n",
      "LEAST UNIQUE: KIM - 0.64\n"
     ]
    }
   ],
   "source": [
    "g_most_least_tup = most_least_unique_characters(g_avg_jaccard_sim_dict)\n",
    "print(\"MOST UNIQUE: {} - {:.2f}\".format(*g_most_least_tup[0]))\n",
    "print(\"LEAST UNIQUE: {} - {:.2f}\".format(*g_most_least_tup[1]))"
   ]
  },
  {
   "cell_type": "code",
   "execution_count": 653,
   "metadata": {
    "deletable": false,
    "editable": false,
    "nbgrader": {
     "cell_type": "code",
     "checksum": "32011f5dd5943788bbffc0d70939cda7",
     "grade": true,
     "grade_id": "create_g_j_sim_mat_test",
     "locked": true,
     "points": 25,
     "schema_version": 3,
     "solution": false
    }
   },
   "outputs": [],
   "source": [
    "# This is an autograder test. Here we can test the function you just wrote above.\n",
    "\"\"\"Check that create_g_j_sim_mat returns the correct output\"\"\"\n",
    "assert type(g_j_sim_matrix) == np.ndarray\n",
    "assert g_j_sim_matrix.shape == (8, 8)\n",
    "assert type(g_avg_jaccard_sim_dict) == dict\n",
    "assert g_j_sim_matrix[4][4] == 1\n",
    "assert_almost_equal(round(g_j_sim_matrix[2][5], 1), 0.7)\n",
    "assert g_avg_jaccard_sim_dict['JONATHAN'] > 0.5\n",
    "assert g_avg_jaccard_sim_dict['KHLOE'] > 0.6"
   ]
  },
  {
   "cell_type": "code",
   "execution_count": 654,
   "metadata": {
    "deletable": false,
    "editable": false,
    "nbgrader": {
     "cell_type": "code",
     "checksum": "5ad2a1acd894dce8c420f7c9db9827bc",
     "grade": true,
     "grade_id": "g_most_least_tup_test",
     "locked": true,
     "points": 5,
     "schema_version": 3,
     "solution": false
    }
   },
   "outputs": [],
   "source": [
    "# This is an autograder test. Here we can test the function you just wrote above.\n",
    "\"\"\"Check that create_g_j_sim_mat and most_least_sim_pairs returns the correct output\"\"\"\n",
    "assert g_most_least_tup[0][0] == 'JONATHAN'"
   ]
  },
  {
   "cell_type": "code",
   "execution_count": 655,
   "metadata": {
    "deletable": false,
    "editable": false,
    "nbgrader": {
     "cell_type": "code",
     "checksum": "2513c6f1ffde5a3871850d3a3fbd6072",
     "grade": false,
     "grade_id": "cell-8336e767a99f80fc",
     "locked": true,
     "schema_version": 3,
     "solution": false
    }
   },
   "outputs": [
    {
     "data": {
      "image/png": "[encoded data removed]",
      "text/plain": [
       "<Figure size 432x288 with 2 Axes>"
      ]
     },
     "metadata": {},
     "output_type": "display_data"
    }
   ],
   "source": [
    "plt.imshow(g_j_sim_matrix, interpolation='none',\n",
    "           cmap=plt.cm.Greys, vmin=0, vmax=1)\n",
    "plt.colorbar()\n",
    "\n",
    "plt.xticks(range(n_good_speakers), good_speakers, rotation=90)\n",
    "plt.yticks(range(n_good_speakers), good_speakers)\n",
    "plt.show()"
   ]
  },
  {
   "cell_type": "markdown",
   "metadata": {
    "deletable": false,
    "editable": false,
    "nbgrader": {
     "cell_type": "markdown",
     "checksum": "34eb1b28690b66217adef81c4b02ff76",
     "grade": false,
     "grade_id": "cell-c0a9db5c65324342",
     "locked": true,
     "schema_version": 3,
     "solution": false
    }
   },
   "source": [
    "## Question 2c (Free Response): Character Similarity w/ Generalized Jaccard\n",
    "\n",
    "Isn't it cool how we are able to analyze character similarity using just conversational data?! \n",
    "Be sure to investigate how the Generalized Jaccard similarity matrix differs from the standard Jaccard matrix and how the character similarity pairs change. \n",
    "\n",
    "In the cell below, please use Markdown to observe any differences that you noticed between the heatmaps \n",
    "generated with Jaccard and Generalized Jaccard similarity measurements."
   ]
  },
  {
   "cell_type": "markdown",
   "metadata": {
    "deletable": false,
    "nbgrader": {
     "cell_type": "markdown",
     "checksum": "b00b616928a74421337ad83af4f0bf16",
     "grade": true,
     "grade_id": "cell-72d857e373a7132c",
     "locked": false,
     "points": 5,
     "schema_version": 3,
     "solution": true
    }
   },
   "source": [
    "YOUR ANSWER HERE\n",
    "\n",
    "1. In generalized jaccard method, it consider total number of words (good types) said by characters. Usually, when a sentence is long, it is possible that  there  are more words interaction with another sentence.  So to some extend this method is better as it offest \"long sentence effect\".\n",
    "\n",
    "2. I sort the avg_jaccard_sim_dict and g_avg_jaccard_sim_dict and get the sort index below:\n",
    "\n",
    "print(sorted(list(avg_jaccard_sim_dict.values())))\n",
    "\n",
    "print(np.argsort(list(avg_jaccard_sim_dict.values())))\n",
    "\n",
    "print(sorted(list(g_avg_jaccard_sim_dict.values())))\n",
    "\n",
    "print(np.argsort(list(g_avg_jaccard_sim_dict.values())))\n",
    "\n",
    "Answers:\n",
    "\n",
    "[0.2617892570484121, 0.3526916004873333, 0.3786915874873376, 0.38744697019752167, 0.40545119477639396, 0.4091071485005812, 0.41351827778098266, 0.41409763835390845]\n",
    "\n",
    "[1 7 0 6 2 5 4 3]\n",
    "\n",
    "[0.5411277189194017, 0.5677746811151584, 0.5939768014190295, 0.5988840543411599, 0.6302798839702309, 0.635060698209168, 0.6376412880143689, 0.6409866755258892]\n",
    "\n",
    "[1 6 0 7 4 5 3 2]\n",
    "\n",
    "From the difference of sorted index, the top 2 least similar characters using both algotithms are the same, however, the top 2 most similar characters are a little bit different. \n",
    "\n",
    "But in general, the effect using both method are similar, we should use general Jaccard method if possible."
   ]
  },
  {
   "cell_type": "markdown",
   "metadata": {
    "deletable": false,
    "editable": false,
    "nbgrader": {
     "cell_type": "markdown",
     "checksum": "b25b8ee1a4236bb3a1b1310e4d95940d",
     "grade": false,
     "grade_id": "cell-615783f3319cb408",
     "locked": true,
     "schema_version": 3,
     "solution": false,
     "task": false
    }
   },
   "source": [
    "## Question 3 (Code Completition): Character Pair Analysis w/ Generalized Jaccard\n",
    "\n",
    "Leveraging the Generalized Jaccard similarity matrix, g_j_sim_matrix, you will be measure the relative similarity of good speakers. The goal of this analysis is to determine which speaker is the most similar to everyone else and which character is the least similar to everyone else.\n",
    "\n",
    "To start, we'll build a list of floats of size input_n_speakers that corresponds to the average (mean) similarity between that character and all the rest of the characters (not including self-similarity). In the cell below, satisfy the specification and ensure that you leverage numpy primitives."
   ]
  },
  {
   "cell_type": "code",
   "execution_count": 656,
   "metadata": {
    "deletable": false,
    "nbgrader": {
     "cell_type": "code",
     "checksum": "6b12dc2270136dd1cfb7b84e089c4754",
     "grade": false,
     "grade_id": "avg_sims",
     "locked": false,
     "schema_version": 3,
     "solution": true,
     "task": false
    }
   },
   "outputs": [],
   "source": [
    "def create_avg_sims(input_g_sim,input_n_speakers):\n",
    "    \"\"\"Returns a numpy array of size input_n_speaker that gives the average\n",
    "    (mean) similarity between speaker i and everybody except the speaker itself. \n",
    "    \n",
    "    Hint: It is recommended to use numpy primitives. \n",
    "    \n",
    "    Note: If you can satisfy the spec without using the input_n_speakers arg,\n",
    "    that is acceptable. \n",
    "    \n",
    "    Params: {input_g_sim: Numpy Matrix (Generalized Jaccard similarity matrix),\n",
    "             input_n_speakers: Integer}\n",
    "    Returns: Numpy Array\n",
    "    \"\"\"\n",
    "    # YOUR CODE HERE\n",
    "    input_g_sim_dup = np.copy(input_g_sim)\n",
    "    np.fill_diagonal(input_g_sim_dup, 0)\n",
    "    for i in range(input_n_speakers):\n",
    "        A = np.sum(input_g_sim_dup, axis = 1)/(input_n_speakers-1)\n",
    "    \n",
    "    return A"
   ]
  },
  {
   "cell_type": "code",
   "execution_count": 657,
   "metadata": {
    "deletable": false,
    "editable": false,
    "nbgrader": {
     "cell_type": "code",
     "checksum": "67bad65cb86912eccc5278511e3732a0",
     "grade": false,
     "grade_id": "cell-5e91c854776e1199",
     "locked": true,
     "schema_version": 3,
     "solution": false,
     "task": false
    }
   },
   "outputs": [],
   "source": [
    "avg_sims = create_avg_sims(g_j_sim_matrix,n_good_speakers)"
   ]
  },
  {
   "cell_type": "code",
   "execution_count": 658,
   "metadata": {
    "deletable": false,
    "editable": false,
    "nbgrader": {
     "cell_type": "code",
     "checksum": "6bac994400dacd90ac1dc3826ef3d0f5",
     "grade": true,
     "grade_id": "avg_sims_test",
     "locked": true,
     "points": 5,
     "schema_version": 3,
     "solution": false,
     "task": false
    }
   },
   "outputs": [],
   "source": [
    "# This is an autograder test. Here we can test the function you just wrote above.\n",
    "\"\"\"Check that create_avg_sims returns the correct output\"\"\"\n",
    "assert type(avg_sims) == np.ndarray\n",
    "assert avg_sims.shape == (8,)\n",
    "assert sum(avg_sims) < 5"
   ]
  },
  {
   "cell_type": "markdown",
   "metadata": {
    "deletable": false,
    "editable": false,
    "nbgrader": {
     "cell_type": "markdown",
     "checksum": "a4bba4231f935811b6dfe886c50ca8e4",
     "grade": false,
     "grade_id": "cell-b1fc0cd66dc62568",
     "locked": true,
     "schema_version": 3,
     "solution": false,
     "task": false
    }
   },
   "source": [
    "## Question 3b (Code Completition): Character Pair Analysis w/ Generalized Jaccard\n",
    "This specific analysis concludes with the determination of which characters are the most and least similar to everyone else. \n",
    "\n",
    "As such, in the cell bellow satisfy the specification to by return a tuple in the following format:\n",
    "```\n",
    "(MOST_SIMILAR_CHARACTER_NAME,LEAST_SIMILAR_CHARACTER_NAME)\n",
    "```"
   ]
  },
  {
   "cell_type": "code",
   "execution_count": 659,
   "metadata": {
    "deletable": false,
    "nbgrader": {
     "cell_type": "code",
     "checksum": "d6ebb9e7cdfd7360f624bf81b9ac3080",
     "grade": false,
     "grade_id": "most_least_char_sim",
     "locked": false,
     "schema_version": 3,
     "solution": true,
     "task": false
    }
   },
   "outputs": [],
   "source": [
    "def most_least_char_sim(input_avg_sims,input_good_speakers):\n",
    "    \"\"\"Returns a Tuple which shows the most and least similar character \n",
    "       in relation to the rest of the characters. \n",
    "\n",
    "    The desired tuple format should be the following\n",
    "        (MOST_SIMILAR_CHARACTER_NAME,LEAST_SIMILAR_CHARACTER_NAME)\n",
    "    \n",
    "    Hint: Use Numpy primitives\n",
    "    \n",
    "    Params: {input_avg_sims: Numpy Array,\n",
    "             input_good_speakers: List}\n",
    "    Returns: Tuple\n",
    "    \"\"\"\n",
    "    # YOUR CODE HERE\n",
    "    sort_index = np.argsort(input_avg_sims)\n",
    "    return (input_good_speakers[sort_index[-1]] , input_good_speakers[sort_index[0]])"
   ]
  },
  {
   "cell_type": "code",
   "execution_count": 660,
   "metadata": {
    "deletable": false,
    "editable": false,
    "nbgrader": {
     "cell_type": "code",
     "checksum": "981b404a1d73a2d1c2c97e196ecb2509",
     "grade": false,
     "grade_id": "cell-6e26b1b6618bfe95",
     "locked": true,
     "schema_version": 3,
     "solution": false,
     "task": false
    }
   },
   "outputs": [
    {
     "name": "stdout",
     "output_type": "stream",
     "text": [
      "MOST SIMILAR: KHLOE\n",
      "LEAST SIMILAR: JONATHAN\n"
     ]
    }
   ],
   "source": [
    "sim_pairs = most_least_char_sim(avg_sims,good_speakers)\n",
    "print(\"MOST SIMILAR: %s\" % sim_pairs[0])\n",
    "print(\"LEAST SIMILAR: %s\" % sim_pairs[1])"
   ]
  },
  {
   "cell_type": "code",
   "execution_count": 661,
   "metadata": {
    "deletable": false,
    "editable": false,
    "nbgrader": {
     "cell_type": "code",
     "checksum": "511ed65732396e91fbe3f6087be62fc2",
     "grade": true,
     "grade_id": "most_least_char_sim_test",
     "locked": true,
     "points": 5,
     "schema_version": 3,
     "solution": false,
     "task": false
    }
   },
   "outputs": [],
   "source": [
    "# This is an autograder test. Here we can test the function you just wrote above.\n",
    "\"\"\"Check that most_least_char_sim returns the correct output\"\"\"\n",
    "assert type(sim_pairs) == tuple\n",
    "assert len(sim_pairs) == 2"
   ]
  },
  {
   "cell_type": "markdown",
   "metadata": {
    "deletable": false,
    "editable": false,
    "nbgrader": {
     "cell_type": "markdown",
     "checksum": "2939edf1fb98e1d70b7cfbfb870365d3",
     "grade": false,
     "grade_id": "cell-e97ebdf7c36c1cae",
     "locked": true,
     "schema_version": 3,
     "solution": false
    }
   },
   "source": [
    "## Character interactions\n",
    "\n",
    "In this section we will make the assumption that, if speaker B says something immediately after speaker A, then it is in reply to speaker A's utterance. While this assumption is not correct in all cases (particularly for noisy transcript data) it should still give us some insight into how our characters are behaving. In many cases, making reasonable assumptions about your data can lead to new insights.\n",
    "\n",
    "## Question 4 (Code Completion): Character Replies\n",
    "\n",
    "In this question we will be looking at how often each character replies to every other character. Note that here, we consider B to be replying to A **only when speaker A gets a reply from speaker B in the next utterance**. Do not merge consecutive lines by the same speaker as the same speech/reply. For instance, in the example:\n",
    "\n",
    "```\n",
    "Line 1: {speaker: A, text: ...}\n",
    "Line 2: {speaker: A, text: ...}\n",
    "Line 3: {speaker: B, text: ...}\n",
    "Line 4: {speaker: B, text: ...}\n",
    "```\n",
    "Line 3 should be considered a reply from speaker B to speaker A. \n",
    "\n",
    "Line 4 should NOT be considered (part of) a reply from speaker B to speaker A."
   ]
  },
  {
   "cell_type": "code",
   "execution_count": 663,
   "metadata": {
    "deletable": false,
    "nbgrader": {
     "cell_type": "code",
     "checksum": "0611f27a8d124ce4fd18866f936439c0",
     "grade": false,
     "grade_id": "create_reply_matrix",
     "locked": false,
     "schema_version": 3,
     "solution": true
    }
   },
   "outputs": [],
   "source": [
    "def create_reply_matrix(input_deduped_transcripts, input_good_speakers, input_n_speakers):\n",
    "    \"\"\"Returns a numpy array of shape n_speakers by n_speakers such that the \n",
    "    entry (i,j) indicates the how many times speaker j replied to speaker i.\n",
    "    \n",
    "    Params: {input_deduped_transcripts: List,\n",
    "             input_good_speakers: List,\n",
    "             input_n_speakers: Integer}\n",
    "    Returns: Numpy Array\n",
    "    \"\"\"\n",
    "    # YOUR CODE HERE\n",
    "    #creat a name dictionary \n",
    "    name_dict = {i: j for j,i in enumerate(input_good_speakers)}\n",
    "    \n",
    "    reply_matrix = np.zeros((input_n_speakers, input_n_speakers))\n",
    "    for trans in input_deduped_transcripts:\n",
    "        speaker1 = 'none'\n",
    "        speaker2 = trans[1][0]['speaker']\n",
    "        for dic in trans[1]:\n",
    "            speaker1 = speaker2\n",
    "            speaker2 = dic['speaker']\n",
    "            #print(speaker1, speaker2)\n",
    "            if (speaker1 in input_good_speakers) and (speaker2 in input_good_speakers):\n",
    "                reply_matrix[name_dict[speaker1], name_dict[speaker2]]+= 1\n",
    "    np.fill_diagonal(reply_matrix,0)\n",
    "    return reply_matrix        \n",
    "            "
   ]
  },
  {
   "cell_type": "code",
   "execution_count": 664,
   "metadata": {
    "deletable": false,
    "editable": false,
    "nbgrader": {
     "cell_type": "code",
     "checksum": "eea71a16b7ef902d698cd2a8a649b18a",
     "grade": false,
     "grade_id": "cell-84339eb4c4a375d0",
     "locked": true,
     "schema_version": 3,
     "solution": false
    }
   },
   "outputs": [],
   "source": [
    "reply_matrix = create_reply_matrix(deduped_transcripts, good_speakers, n_good_speakers)"
   ]
  },
  {
   "cell_type": "code",
   "execution_count": 665,
   "metadata": {
    "deletable": false,
    "editable": false,
    "nbgrader": {
     "cell_type": "code",
     "checksum": "3ac496002f2f9c525a8700c748a20a73",
     "grade": true,
     "grade_id": "create_reply_matrix_test",
     "locked": true,
     "points": 20,
     "schema_version": 3,
     "solution": false
    }
   },
   "outputs": [],
   "source": [
    "# This is an autograder test. Here we can test the function you just wrote above.\n",
    "\"\"\"Check that create_reply_matrix returns the correct output\"\"\"\n",
    "assert type(reply_matrix) == np.ndarray\n",
    "assert reply_matrix.shape == (8, 8)\n",
    "assert reply_matrix[1][1] == 0\n",
    "assert sum(reply_matrix[2]) > 2500\n",
    "assert sum(reply_matrix[6]) < 950"
   ]
  },
  {
   "cell_type": "code",
   "execution_count": 666,
   "metadata": {
    "deletable": false,
    "editable": false,
    "nbgrader": {
     "cell_type": "code",
     "checksum": "a684251248a83cbefc0e5a16f2add2ea",
     "grade": false,
     "grade_id": "cell-c355fbc77afe4f74",
     "locked": true,
     "schema_version": 3,
     "solution": false
    }
   },
   "outputs": [
    {
     "data": {
      "image/png": "[encoded data removed]",
      "text/plain": [
       "<Figure size 432x288 with 2 Axes>"
      ]
     },
     "metadata": {},
     "output_type": "display_data"
    }
   ],
   "source": [
    "plt.imshow(reply_matrix, interpolation='none',\n",
    "           cmap=plt.cm.Greys)\n",
    "plt.colorbar()\n",
    "\n",
    "plt.xticks(range(n_good_speakers), good_speakers, rotation=90)\n",
    "plt.yticks(range(n_good_speakers), good_speakers)\n",
    "plt.show()"
   ]
  },
  {
   "cell_type": "markdown",
   "metadata": {
    "deletable": false,
    "editable": false,
    "nbgrader": {
     "cell_type": "markdown",
     "checksum": "396c2222032bd1b2117bc404588a3808",
     "grade": false,
     "grade_id": "cell-f016295a5274aaba",
     "locked": true,
     "schema_version": 3,
     "solution": false
    }
   },
   "source": [
    "## Question 4b (Free Response): Character Replies\n",
    "\n",
    "In the cell below, use Markdown to describe anything that you notice about the heatmap generated from ``reply_matrix``. What do you notice about the communication between certain characters?"
   ]
  },
  {
   "cell_type": "markdown",
   "metadata": {
    "deletable": false,
    "nbgrader": {
     "cell_type": "markdown",
     "checksum": "9ff22092c81f4bf70509b63f5e8d2ad9",
     "grade": true,
     "grade_id": "create_reply_matrix_ans",
     "locked": false,
     "points": 5,
     "schema_version": 3,
     "solution": true
    }
   },
   "source": [
    "YOUR ANSWER HERE\n",
    "\n",
    "1. In general, the matrix is not perfectly symmetric, but the difference of the two symmetric elements is not too large. For example reply_matrix[0,2] = 357 and reply_matrix[3,0] = 359. This means that the conversation is continuous. It is within our expectation.\n",
    "\n",
    "2. From each row, we could get which pairs communicate most in the total transcripts. For example, since reply_matrix[0,5] is quite large = 661, i might guess the connection between BRUCE and KRIS is quite close, and may be they are more similar with each other."
   ]
  },
  {
   "cell_type": "markdown",
   "metadata": {
    "deletable": false,
    "editable": false,
    "nbgrader": {
     "cell_type": "markdown",
     "checksum": "4a1e9ce17a9a2d72991e1bdc2d715321",
     "grade": false,
     "grade_id": "cell-5f9d8e30994a306f",
     "locked": true,
     "schema_version": 3,
     "solution": false
    }
   },
   "source": [
    "## Question 5 (Code Completion): Character-Pair Specific Reply Diction\n",
    "\n",
    "In this analysis we will be answering the question: what words were used most specifically by each pair of characters?\n",
    "\n",
    "For this analysis, we will take only the pairs of characters that exchanged at least 350 messages between them (*good pairs*), in either direction. For example, Speaker A and Speaker B are a *good pair* if A replies to B 175 times and B replies to 175 times.\n",
    "\n",
    "We will represent these *good pairs* as tuple pairs of character names (ordered alphabetically) and build a matrix where the rows correspond to the pairs, and the columns to the *good type* words.\n",
    "\n",
    "You will begin by satisfying the specification in the cell below and determining the good pairs. The return type of the function will be a list of tuples in the following format:\n",
    "```\n",
    "[(CHARACTER_NAME_A, CHARACTER_NAME_B),\n",
    " (CHARACTER_NAME_A, CHARACTER_NAME_C),\n",
    "...]\n",
    "```\n",
    "\n",
    "Note: We will be numerically sorting the good pairs later. \n",
    "\n",
    "Hint: You are to only look at the interaction between the pairs, not all words each person says. As such you should be only relying on the `reply_matrix`. "
   ]
  },
  {
   "cell_type": "code",
   "execution_count": 667,
   "metadata": {
    "deletable": false,
    "nbgrader": {
     "cell_type": "code",
     "checksum": "8c87bb9ef1e0839cb673144c48923f80",
     "grade": false,
     "grade_id": "create_good_pairs",
     "locked": false,
     "schema_version": 3,
     "solution": true
    }
   },
   "outputs": [],
   "source": [
    "def create_good_pairs(input_reply_matrix, input_good_speakers, input_n_speakers):\n",
    "    \"\"\"Returns a tuple list of good pairs in the following format:\n",
    "        [(CHARACTER_NAME_A, CHARACTER_NAME_B),\n",
    "        ...]\n",
    "    \n",
    "    Note: Good pairs are bi-directional and should be included only once.\n",
    "    That is, if (A, B) is in the list, (B, A) should not be. Names should\n",
    "    be ordered alphbetically within each tuple.\n",
    "    \n",
    "    Params: {input_reply_matrix: Numpy array,\n",
    "             input_n_speakers: Integer}\n",
    "    Returns: List<Tuple>\n",
    "    \"\"\"\n",
    "    # YOUR CODE HERE\n",
    "    good_pairs = []\n",
    "    for i in range(input_n_speakers):\n",
    "        for j in range(i, input_n_speakers):\n",
    "            if (input_reply_matrix[i,j] + input_reply_matrix[j,i]>=350):\n",
    "                good_pairs.append((input_good_speakers[i], input_good_speakers[j]))\n",
    "    return good_pairs"
   ]
  },
  {
   "cell_type": "code",
   "execution_count": 668,
   "metadata": {
    "deletable": false,
    "editable": false,
    "nbgrader": {
     "cell_type": "code",
     "checksum": "26f97c2acaa82916fba1f57de8d987bc",
     "grade": false,
     "grade_id": "cell-b9c7345102664b1f",
     "locked": true,
     "schema_version": 3,
     "solution": false
    }
   },
   "outputs": [],
   "source": [
    "good_pairs = create_good_pairs(reply_matrix, good_speakers, n_good_speakers)\n",
    "good_pairs.sort()"
   ]
  },
  {
   "cell_type": "code",
   "execution_count": 431,
   "metadata": {
    "deletable": false,
    "editable": false,
    "nbgrader": {
     "cell_type": "code",
     "checksum": "34b7c88ed7badf8a2f9fce1399a411fe",
     "grade": true,
     "grade_id": "create_good_pairs_test",
     "locked": true,
     "points": 10,
     "schema_version": 3,
     "solution": false
    }
   },
   "outputs": [],
   "source": [
    "# This is an autograder test. Here we can test the function you just wrote above.\n",
    "\"\"\"Check that create_good_pairs returns the correct output\"\"\"\n",
    "assert type(good_pairs) == list\n",
    "assert len(good_pairs) < 15 and len(good_pairs) > 10\n",
    "assert good_pairs[0] == tuple(sorted(good_pairs[0]))\n",
    "assert (reply_matrix[tuple([good_speakers.index(s) for s in good_pairs[0]])] + \n",
    "        reply_matrix[tuple([good_speakers.index(s) for s in good_pairs[0]][::-1])]) >= 350"
   ]
  },
  {
   "cell_type": "code",
   "execution_count": 669,
   "metadata": {
    "deletable": false,
    "editable": false,
    "nbgrader": {
     "cell_type": "code",
     "checksum": "be50d958f862473628b759a63a80a7a4",
     "grade": false,
     "grade_id": "cell-19eb2fac94e305b1",
     "locked": true,
     "schema_version": 3,
     "solution": false
    }
   },
   "outputs": [],
   "source": [
    "# To help you for the next couple of functions. We recommend you use the following variables\n",
    "# as well as the good_type_reverse_index variable defined before\n",
    "n_good_pairs = len(good_pairs)\n",
    "good_pairs_reverse_index = {t: i for i, t in enumerate(good_pairs)}\n",
    "# We have attached a tokenize method that you should use below:\n",
    "def tokenize(text):\n",
    "    \"\"\"Returns a list of words that make up the text.    \n",
    "    Params: {text: String}\n",
    "    Returns: Array\n",
    "    \"\"\"\n",
    "    return [x for x in re.findall(r\"[a-z]+\", text.lower())]"
   ]
  },
  {
   "cell_type": "markdown",
   "metadata": {
    "deletable": false,
    "editable": false,
    "nbgrader": {
     "cell_type": "markdown",
     "checksum": "4108123663ead51d5062ddaf08b35415",
     "grade": false,
     "grade_id": "cell-5fabc69e0e911f87",
     "locked": true,
     "schema_version": 3,
     "solution": false
    }
   },
   "source": [
    "## Question 5b (Code Completion): Character-Pair Specific Reply Diction\n",
    "\n",
    "As we continue the analysis we hope to build a character-pair word occurence matrix. This matrix has rows that correspond to *good pairs* and columns that correspond to *good type* words. \n",
    "\n",
    "Note that here, like in Question 3, we consider B to be replying to A **only when speaker A gets a reply from speaker B in the next utterance**. Do not merge consecutive lines by the same speaker as the same speech/reply. For instance, in the example:\n",
    "\n",
    "```\n",
    "Line 1: {speaker: A, text: ...}\n",
    "Line 2: {speaker: A, text: ...}\n",
    "Line 3: {speaker: B, text: ...}\n",
    "Line 4: {speaker: B, text: ...}\n",
    "Line 5: {speaker: A, text: ...}\n",
    "```\n",
    "If (A, B) is a *good pair*, then\n",
    "* Line 3 should be included in (A, B)'s reply diction.\n",
    "* Line 5 should be included in (A, B)'s reply diction.\n",
    "\n",
    "As such, in the cell below, fulfill the specification to build this `input_n_good_pairs` by `input_n_good_types` matrix:"
   ]
  },
  {
   "cell_type": "code",
   "execution_count": 670,
   "metadata": {
    "deletable": false,
    "nbgrader": {
     "cell_type": "code",
     "checksum": "8cdcfd00e6be37ff98bc48f422e93ac8",
     "grade": false,
     "grade_id": "pair_words_mat",
     "locked": false,
     "schema_version": 3,
     "solution": true
    }
   },
   "outputs": [],
   "source": [
    "from collections import Counter\n",
    "def create_pair_words_mat(input_tokenize_method,\n",
    "                          input_deduped_transcripts,\n",
    "                          input_good_speakers,\n",
    "                          input_n_speakers,\n",
    "                          input_n_good_types,\n",
    "                          input_n_good_pairs):\n",
    "    \"\"\"Returns a numpy array of shape n_good_pairs by n_good_types such that the \n",
    "    entry (i,j) indicates how many times pair i has replied good type word j.\n",
    "    \n",
    "    Hint: You should use the global variables good_pairs_reverse_index and \n",
    "    good_types_reverse_index.\n",
    "    \n",
    "    Params: {input_tokenize_method: Function a -> b,\n",
    "             input_deduped_transcripts: List,\n",
    "             input_good_speakers: List,\n",
    "             input_n_speakers: Integer,\n",
    "             input_n_good_types: Integer,\n",
    "             input_n_good_pairs: Integer}\n",
    "    Returns: Numpy Array\n",
    "    \"\"\"\n",
    "    # YOUR CODE HERE\n",
    "    pair_words_mat = np.zeros((input_n_good_pairs, input_n_good_types))\n",
    "    pair_list = list(good_pairs_reverse_index.keys())\n",
    "    \n",
    "\n",
    "    for trans in input_deduped_transcripts:\n",
    "        speaker1 = 'none'\n",
    "        speaker2 = trans[1][0]['speaker']\n",
    "        for dic in trans[1]:\n",
    "            speaker1 = speaker2\n",
    "            speaker2 = dic['speaker']\n",
    "            if speaker1 < speaker2:\n",
    "                pair = (speaker1, speaker2)\n",
    "            else:\n",
    "                pair = (speaker2, speaker1)\n",
    "            if pair in pair_list:\n",
    "                word_list = input_tokenize_method(dic['text'])\n",
    "                counter = Counter(word_list)\n",
    "                for key, value in counter.items():\n",
    "                    if key in good_types_reverse_index.keys():\n",
    "                        pair_words_mat[good_pairs_reverse_index[pair], good_types_reverse_index[key]] += value\n",
    "    return pair_words_mat"
   ]
  },
  {
   "cell_type": "code",
   "execution_count": 671,
   "metadata": {
    "deletable": false,
    "editable": false,
    "nbgrader": {
     "cell_type": "code",
     "checksum": "b794d7887cd0dfd310553c08de62e381",
     "grade": false,
     "grade_id": "cell-a409ac7edb994c37",
     "locked": true,
     "schema_version": 3,
     "solution": false
    },
    "scrolled": true
   },
   "outputs": [],
   "source": [
    "pair_words_mat = create_pair_words_mat(tokenize, deduped_transcripts,\n",
    "                                       good_speakers, n_good_speakers,\n",
    "                                       n_good_types, n_good_pairs)"
   ]
  },
  {
   "cell_type": "code",
   "execution_count": 672,
   "metadata": {
    "deletable": false,
    "editable": false,
    "nbgrader": {
     "cell_type": "code",
     "checksum": "94d5ac7f5d0dfbcfe188a105b3039497",
     "grade": true,
     "grade_id": "pair_words_mat_test",
     "locked": true,
     "points": 25,
     "schema_version": 3,
     "solution": false
    }
   },
   "outputs": [],
   "source": [
    "# This is an autograder test. Here we can test the function you just wrote above.\n",
    "\"\"\"Check that create_pair_words_mat returns the correct output\"\"\"\n",
    "assert type(pair_words_mat) == np.ndarray\n",
    "assert pair_words_mat.shape == (n_good_pairs, n_good_types)\n",
    "assert sum(pair_words_mat[5]) > 2000\n",
    "assert sum(pair_words_mat[:, 8]) == 0"
   ]
  },
  {
   "cell_type": "markdown",
   "metadata": {
    "deletable": false,
    "editable": false,
    "nbgrader": {
     "cell_type": "markdown",
     "checksum": "4ead269563665c30c9541122af38410b",
     "grade": false,
     "grade_id": "cell-a31f009ab89f552c",
     "locked": true,
     "schema_version": 3,
     "solution": false
    }
   },
   "source": [
    "## Question 5c (Code Completion): Character-Pair Specific Reply Diction\n",
    "\n",
    "We will finish this analysis by reweighting the character-pair word occurrences such that each entry corresponds to the ratio between how often a given pair says a word and how often all of the *good pairs* said that word. This can be done quite simply with numpy primitives.\n",
    "\n",
    "In order to de-emphasize the ratios of rare words (i.e. words in rare contexts are more likely to occur for only a single pair), we will apply additive smoothing also known as Laplace smoothing. This means that we will add one to each character-pair word occurrence before reweighting. So, for a given word $w$, pair $p$, amd character-pair word occurrence $\\text{count}(p, w)$, the weighted occurrence $W(p, w)$ is\n",
    "\n",
    "$$ W(p, w) = \\frac{\\text{count}(p, w) + 1}{\\displaystyle\\sum_{\\pi \\in \\text{good pairs}} \\big(\\text{count}(\\pi, w) + 1\\big)} $$\n",
    "\n",
    "Below are a few examples of how some ratios will change assuming there are 10 good pairs.\n",
    "\n",
    "$$\n",
    "\\begin{align*}\n",
    "\\frac{2}{2} = 1.0 \\ & \\longrightarrow \\ \\frac{3}{12} = 0.25 \\\\\\\\\n",
    "\\frac{50}{50} = 1.0 \\  & \\longrightarrow \\ \\frac{51}{60} = 0.85 \\\\\\\\\n",
    "\\frac{9}{10} = 0.9 \\ & \\longrightarrow \\ \\frac{10}{20} = 0.5\n",
    "\\end{align*}\n",
    "$$\n",
    "\n",
    "\n",
    "In the cell below, complete the specification and return the weighted words by each pair:"
   ]
  },
  {
   "cell_type": "code",
   "execution_count": 673,
   "metadata": {
    "deletable": false,
    "nbgrader": {
     "cell_type": "code",
     "checksum": "d0397cc69dd179f4302cc28039d0ea62",
     "grade": false,
     "grade_id": "create_weighted_words",
     "locked": false,
     "schema_version": 3,
     "solution": true
    }
   },
   "outputs": [],
   "source": [
    "def create_weighted_words(input_pair_words_mat):\n",
    "    \"\"\"Returns a numpy array with the same shape as input_pair_words_mat\n",
    "    such that entry (i, j) indicates a weighted score showing how often a \n",
    "    given pair replied a word\n",
    "    \n",
    "    Note: Words may not be said by any pair. Use numpy primitives to\n",
    "    optimize this function\n",
    "    \n",
    "    Params: {input_pair_words_mat: Numpy array}\n",
    "    Returns: Numpy Array\n",
    "    \"\"\"\n",
    "    # YOUR CODE HERE\n",
    "    input_pair_words_mat_dup = np.copy(input_pair_words_mat)\n",
    "    return (input_pair_words_mat_dup+1)/(np.sum(input_pair_words_mat_dup, axis =0)+input_pair_words_mat.shape[0])"
   ]
  },
  {
   "cell_type": "code",
   "execution_count": 674,
   "metadata": {
    "deletable": false,
    "editable": false,
    "nbgrader": {
     "cell_type": "code",
     "checksum": "f00f9d7c59ed370d6e6dcf3a37a92459",
     "grade": false,
     "grade_id": "cell-4f5724c513ef12a6",
     "locked": true,
     "schema_version": 3,
     "solution": false
    }
   },
   "outputs": [],
   "source": [
    "weighted_words = create_weighted_words(pair_words_mat)"
   ]
  },
  {
   "cell_type": "code",
   "execution_count": 675,
   "metadata": {
    "deletable": false,
    "editable": false,
    "nbgrader": {
     "cell_type": "code",
     "checksum": "a65fc12b68f309d0703119170a81239f",
     "grade": true,
     "grade_id": "create_weighted_words_test",
     "locked": true,
     "points": 10,
     "schema_version": 3,
     "solution": false
    }
   },
   "outputs": [],
   "source": [
    "# This is an autograder test. Here we can test the function you just wrote above.\n",
    "\"\"\"Check that create_weighted_words returns the correct output\"\"\"\n",
    "assert type(weighted_words) == np.ndarray\n",
    "assert weighted_words.shape == (n_good_pairs, n_good_types)\n",
    "assert_almost_equal(weighted_words[-1, 1], 1/9)\n",
    "assert_almost_equal(round(sum(weighted_words[:, 0]), 5), 1)\n",
    "assert_almost_equal(round(sum(weighted_words[:, 2]), 5), 1)\n",
    "assert sum(weighted_words[5]) > 100"
   ]
  },
  {
   "cell_type": "markdown",
   "metadata": {
    "deletable": false,
    "editable": false,
    "nbgrader": {
     "cell_type": "markdown",
     "checksum": "c9b42de696fe61764183b571cc3a74e1",
     "grade": false,
     "grade_id": "cell-bb1e93bdfd9831a0",
     "locked": true,
     "schema_version": 3,
     "solution": false
    }
   },
   "source": [
    "Now, we can display the top 10 words between good pairs:"
   ]
  },
  {
   "cell_type": "code",
   "execution_count": 454,
   "metadata": {
    "deletable": false,
    "editable": false,
    "nbgrader": {
     "cell_type": "code",
     "checksum": "4a993978b03a92fc0d5f5df1447415fd",
     "grade": false,
     "grade_id": "cell-90bcad9f309e4870",
     "locked": true,
     "schema_version": 3,
     "solution": false
    }
   },
   "outputs": [
    {
     "name": "stdout",
     "output_type": "stream",
     "text": [
      "BRUCE, KHLOE\n",
      "0.56 apparently\n",
      "0.48 pounds\n",
      "0.47 armenian\n",
      "0.41 lose\n",
      "0.39 american\n",
      "0.39 coats\n",
      "0.39 fur\n",
      "0.37 black\n",
      "0.37 furs\n",
      "0.36 few\n",
      "\n",
      "BRUCE, KRIS\n",
      "0.58 honey\n",
      "0.50 atm\n",
      "0.50 card\n",
      "0.45 golf\n",
      "0.42 garage\n",
      "0.39 enough\n",
      "0.38 child\n",
      "0.38 uh\n",
      "0.37 fabulous\n",
      "0.37 surgery\n",
      "\n",
      "BRUCE, ROBERT\n",
      "0.41 father\n",
      "0.37 slowly\n",
      "0.29 yelled\n",
      "0.28 genetic\n",
      "0.28 media\n",
      "0.27 graduated\n",
      "0.26 club\n",
      "0.25 exciting\n",
      "0.22 job\n",
      "0.22 bonding\n",
      "\n",
      "KHLOE, KIM\n",
      "0.41 ta\n",
      "0.39 gives\n",
      "0.39 sale\n",
      "0.38 crying\n",
      "0.33 takes\n",
      "0.33 web\n",
      "0.32 bachelorette\n",
      "0.32 buying\n",
      "0.32 dry\n",
      "0.31 africa\n",
      "\n",
      "KHLOE, KOURTNEY\n",
      "0.52 snack\n",
      "0.44 wave\n",
      "0.37 peta\n",
      "0.35 reading\n",
      "0.35 beast\n",
      "0.35 compare\n",
      "0.35 fear\n",
      "0.35 organization\n",
      "0.35 palms\n",
      "0.35 posted\n",
      "\n",
      "KHLOE, KRIS\n",
      "0.56 necessary\n",
      "0.48 wind\n",
      "0.43 change\n",
      "0.40 bitch\n",
      "0.37 purple\n",
      "0.35 label\n",
      "0.35 ladies\n",
      "0.35 maker\n",
      "0.35 shops\n",
      "0.35 wanted\n",
      "\n",
      "KHLOE, ROBERT\n",
      "0.56 begins\n",
      "0.33 adrienne\n",
      "0.31 homeboy\n",
      "0.30 enjoy\n",
      "0.29 malika\n",
      "0.28 robert\n",
      "0.27 meat\n",
      "0.26 ya\n",
      "0.26 freak\n",
      "0.24 security\n",
      "\n",
      "KIM, KOURTNEY\n",
      "0.50 amusing\n",
      "0.39 buys\n",
      "0.37 super\n",
      "0.35 read\n",
      "0.35 sight\n",
      "0.35 borrow\n",
      "0.33 aah\n",
      "0.33 adult\n",
      "0.33 apart\n",
      "0.33 whenever\n",
      "\n",
      "KIM, KRIS\n",
      "0.39 flight\n",
      "0.35 insensitive\n",
      "0.34 rude\n",
      "0.33 miles\n",
      "0.32 promise\n",
      "0.31 slap\n",
      "0.31 veil\n",
      "0.31 yourselves\n",
      "0.30 gold\n",
      "0.30 pee\n",
      "\n",
      "KIM, ROBERT\n",
      "0.68 afraid\n",
      "0.56 hurt\n",
      "0.54 acceptable\n",
      "0.52 cheating\n",
      "0.50 learn\n",
      "0.50 needed\n",
      "0.48 scream\n",
      "0.36 york\n",
      "0.31 email\n",
      "0.30 adrienne\n",
      "\n",
      "KOURTNEY, KRIS\n",
      "0.42 shopping\n",
      "0.41 hiding\n",
      "0.39 bunny\n",
      "0.39 desperate\n",
      "0.39 hop\n",
      "0.37 eye\n",
      "0.36 keeping\n",
      "0.35 addiction\n",
      "0.35 backup\n",
      "0.35 cards\n",
      "\n",
      "KOURTNEY, SCOTT\n",
      "0.52 cane\n",
      "0.33 tom\n",
      "0.31 absurd\n",
      "0.31 crib\n",
      "0.30 million\n",
      "0.30 putting\n",
      "0.28 books\n",
      "0.27 keep\n",
      "0.27 hospital\n",
      "0.26 grab\n",
      "\n"
     ]
    }
   ],
   "source": [
    "for i, j in good_pairs:\n",
    "    print(\"{}, {}\".format(i, j))\n",
    "    words = weighted_words[good_pairs_reverse_index[i, j]]\n",
    "    ranked = sorted(enumerate(words), key=lambda x:x[1], reverse=True)\n",
    "    for index, score in ranked[:10]:\n",
    "        print(\"{:.2f} {}\".format(score, good_types[index]))\n",
    "    print()"
   ]
  },
  {
   "cell_type": "markdown",
   "metadata": {
    "deletable": false,
    "editable": false,
    "nbgrader": {
     "cell_type": "markdown",
     "checksum": "9129f3b139eb9825e5ab65e785451586",
     "grade": false,
     "grade_id": "cell-bb3b9eded7ff8b46",
     "locked": true,
     "schema_version": 3,
     "solution": false
    }
   },
   "source": [
    "## Question 5d (Free Response): Character-Pair Specific Diction\n",
    "\n",
    "Now we have some sensible results to understand the specific diction between character pairs. \n",
    "\n",
    "\n",
    "In the cell below, please use Markdown to note any interesting observations/analysis you can take-away from the results above. "
   ]
  },
  {
   "cell_type": "markdown",
   "metadata": {
    "deletable": false,
    "nbgrader": {
     "cell_type": "markdown",
     "checksum": "04981b868ccaf00c792bbd2d38426d83",
     "grade": true,
     "grade_id": "create_weighted_words_ans",
     "locked": false,
     "points": 10,
     "schema_version": 3,
     "solution": true
    }
   },
   "source": [
    "YOUR ANSWER HERE\n",
    "\n",
    "1. BRUCE and KRIS talk about a lot of life entertainment: like atm, card, and golf, and also their child and wife(honey). Beside, maybe they are parent and old so they talk a lot about surgery.\n",
    "\n",
    "2. KHLOE and KOURTNEY talk a lot of natural science like 'beast', 'wave', 'peta', and 'palms'. They are small children as they talk a lot of 'snack'.\n",
    "\n",
    "3. KIM and ROBERT  talk about a domestic violence and cheating that happen in adults' world."
   ]
  },
  {
   "cell_type": "markdown",
   "metadata": {
    "deletable": false,
    "editable": false,
    "nbgrader": {
     "cell_type": "markdown",
     "checksum": "930651e4cbfe72d859596bd0ae891db2",
     "grade": false,
     "grade_id": "cell-fac92bc281288ce3",
     "locked": true,
     "schema_version": 3,
     "solution": false
    }
   },
   "source": [
    "## Question 6 (Code Completion): Pair Interaction Strength\n",
    "\n",
    "In this question we will look at the strength of interactions between *all good speaker pairs* and how that relates to the similarity in their speech. We define interaction strength as the number of interactions between characters.\n",
    "\n",
    "To do this, we will start by making some modifications to our `reply_matrix`. \n",
    "We want an `interaction_matrix` which includes the number of interactions between a pair of characters in total, not just the number of times a character has spoke to another character. Put another way, we want the matrix to be bi-directional and symmetric. To use our example:\n",
    "\n",
    "```\n",
    "Line 1: {speaker: A, text....}\n",
    "Line 2: {speaker: A, text....}\n",
    "Line 3: {speaker: B, text....}\n",
    "Line 4: {speaker: B, text....}\n",
    "```\n",
    "Line 3 should be considered an interaction between pair (Character A, Character B) as well as pair (Character B, Character A) in the `interaction_matrix`."
   ]
  },
  {
   "cell_type": "code",
   "execution_count": 676,
   "metadata": {
    "deletable": false,
    "nbgrader": {
     "cell_type": "code",
     "checksum": "772495d01fe8090248b58fc48976f138",
     "grade": false,
     "grade_id": "interaction_mat",
     "locked": false,
     "schema_version": 3,
     "solution": true
    }
   },
   "outputs": [],
   "source": [
    "def create_interaction_mat(input_reply_matrix, input_n_speakers):\n",
    "    \"\"\"Returns a numpy array of shape n_speakers by n_speakers such that the \n",
    "    entry (i,j) indicates the combined number of times speaker j started a\n",
    "    conversation with speaker i and vice versa.\n",
    "    \n",
    "    Params: {input_conversation_matrix: Numpy Array,\n",
    "             input_n_speakers: Integer}\n",
    "    Returns: Numpy Array\n",
    "    \"\"\"\n",
    "    # YOUR CODE HERE\n",
    "    input_reply_matrix_dup = np.copy(input_reply_matrix)\n",
    "    input_reply_matrix_trans = np.copy(input_reply_matrix).transpose()\n",
    "    return input_reply_matrix_dup+input_reply_matrix_trans"
   ]
  },
  {
   "cell_type": "code",
   "execution_count": 677,
   "metadata": {
    "deletable": false,
    "editable": false,
    "nbgrader": {
     "cell_type": "code",
     "checksum": "c6b93d0c44e17315e144d15ef75e5fb7",
     "grade": false,
     "grade_id": "cell-cdfe69d1b5699f45",
     "locked": true,
     "schema_version": 3,
     "solution": false
    }
   },
   "outputs": [],
   "source": [
    "interaction_matrix = create_interaction_mat(reply_matrix, n_good_speakers)"
   ]
  },
  {
   "cell_type": "code",
   "execution_count": 678,
   "metadata": {
    "deletable": false,
    "editable": false,
    "nbgrader": {
     "cell_type": "code",
     "checksum": "fe01cdd7b6b8dcac2728212cb25e41b7",
     "grade": true,
     "grade_id": "interaction_mat_test",
     "locked": true,
     "points": 10,
     "schema_version": 3,
     "solution": false
    }
   },
   "outputs": [],
   "source": [
    "# This is an autograder test. Here we can test the function you just wrote above.\n",
    "\"\"\"Check that create_exchange_mat returns the correct output\"\"\"\n",
    "assert type(interaction_matrix) == np.ndarray\n",
    "assert interaction_matrix.shape == (8,8)\n",
    "assert sum(interaction_matrix[0]) > 3000 and sum(interaction_matrix[0]) < 3200\n",
    "assert sum(interaction_matrix[:,0]) > 3000 and sum(interaction_matrix[:,0]) < 3200"
   ]
  },
  {
   "cell_type": "markdown",
   "metadata": {
    "deletable": false,
    "editable": false,
    "nbgrader": {
     "cell_type": "markdown",
     "checksum": "f7847b7a5a349d5d94498dbe8a169a32",
     "grade": false,
     "grade_id": "cell-e24c175a4609305a",
     "locked": true,
     "schema_version": 3,
     "solution": false
    }
   },
   "source": [
    "Now let's take a look at how pair interaction strength compares with pair speech similarity. We first do this by looking at  trends for a specific character."
   ]
  },
  {
   "cell_type": "code",
   "execution_count": 458,
   "metadata": {
    "deletable": false,
    "editable": false,
    "nbgrader": {
     "cell_type": "code",
     "checksum": "60f7f30f132afb1ef354fa78f22aae06",
     "grade": false,
     "grade_id": "cell-edd8faee9190dc4f",
     "locked": true,
     "schema_version": 3,
     "solution": false
    }
   },
   "outputs": [],
   "source": [
    "def character_interaction_similarity_plot(input_interaction_matrix, input_similarity_matrix, input_character):\n",
    "    \"\"\"Returns a bar plot with for input_character\n",
    "    x-axis : lists good_speakers in the order of high to low interaction with input_character\n",
    "    y-axis : generalized jaccard similarity between each good_speaker and input_character pair\n",
    "    \"\"\"\n",
    "    n = good_speakers.index(input_character)\n",
    "    interaction_order = [idx for idx, sim in sorted(enumerate(interaction_matrix[n]),reverse=True, key=lambda x: x[1])]\n",
    "    similarity = [g_j_sim_matrix[n][i] for i in interaction_order]\n",
    "    index = np.arange(n_good_speakers)\n",
    "    \n",
    "    plt.bar(index, similarity,color='b')\n",
    "    \n",
    "    plt.title(good_speakers[n])\n",
    "    plt.xlabel('Interaction Strength (high to low)')\n",
    "    plt.ylabel('Similarity')\n",
    "    plt.xticks(index, [good_speakers[i] for i in interaction_order])\n",
    "    \n",
    "    plt.show()\n"
   ]
  },
  {
   "cell_type": "code",
   "execution_count": 679,
   "metadata": {
    "deletable": false,
    "editable": false,
    "nbgrader": {
     "cell_type": "code",
     "checksum": "5a653a65d0417b2e6e5899649a3ddf66",
     "grade": false,
     "grade_id": "cell-aaeff4e42a7c98a8",
     "locked": true,
     "schema_version": 3,
     "solution": false
    }
   },
   "outputs": [
    {
     "data": {
      "image/png": "[encoded data removed]",
      "text/plain": [
       "<Figure size 720x288 with 1 Axes>"
      ]
     },
     "metadata": {},
     "output_type": "display_data"
    }
   ],
   "source": [
    "plt.figure(figsize=(10, 4))\n",
    "character_interaction_similarity_plot(interaction_matrix, g_j_sim_matrix,\"KIM\")"
   ]
  },
  {
   "cell_type": "markdown",
   "metadata": {
    "deletable": false,
    "editable": false,
    "nbgrader": {
     "cell_type": "markdown",
     "checksum": "91955f0990cf4a1be85e5f72e9eac78c",
     "grade": false,
     "grade_id": "cell-1edc5ba88265dcb0",
     "locked": true,
     "schema_version": 3,
     "solution": false,
     "task": false
    }
   },
   "source": [
    "## Question 6b (Free response): Pair Interaction Strength\n",
    "\n",
    "In the cell below, use Markdown to describe anything that you notice about how interaction strength compares to similarity for Kim."
   ]
  },
  {
   "cell_type": "markdown",
   "metadata": {
    "deletable": false,
    "nbgrader": {
     "cell_type": "markdown",
     "checksum": "6485f4b469a1bc215d95354c752c9884",
     "grade": true,
     "grade_id": "cell-83497c493f7ef53a",
     "locked": false,
     "points": 5,
     "schema_version": 3,
     "solution": true
    }
   },
   "source": [
    "YOUR ANSWER HERE\n",
    "\n",
    "In general, the interaction using interaction_matrix and using generalized jaccard similarity is almost consistent. As we can see from the graph, the relationship with KHLOE is the highest among using jaccard similarity and this KHLOE also comes first in interaction matrix.\n"
   ]
  },
  {
   "cell_type": "markdown",
   "metadata": {
    "deletable": false,
    "editable": false,
    "nbgrader": {
     "cell_type": "markdown",
     "checksum": "ec4ff1db3d95b17ef6bf48020b1ccc2d",
     "grade": false,
     "grade_id": "cell-6ad47d66871de53d",
     "locked": true,
     "schema_version": 3,
     "solution": false,
     "task": false
    }
   },
   "source": [
    "## Question 6c (Code Completion): Pair Interaction Strength\n",
    "\n",
    "To complete your analysis print a bar graph that generalizes the relationship between pair interaction strength and similarity. For simplicity, we rate each pair's interaction strength \"high\", \"medium\" and \"low\" depending on how many interactions were exchanged between the pair.\n",
    "\n",
    "* High interaction strength: more than 500 interactions,\n",
    "* Medium interaction strength: 150 interactions to 500 interactions (inclusive),\n",
    "* Low interaction strength: less than 150 interactions.\n",
    "\n",
    "In this analysis, categorize each pair into high, medium, or low interaction strength and plot the average similarity of each category. That is, plot 3 bars on the x-axis (1 for each category) against average similarity (for each category) on the y-axis.\n",
    "\n",
    "Note: Pairs of good speakers are bidirectional in this analysis and should be included only once. That is, if you've included (BRUCE, KRIS), you shouldn't include (KRIS, BRUCE). Also, do not include pairs between the same person (e.g. (KIM,KIM))\n",
    "\n",
    "Hint: Use interaction_matrix and g_j_sim_matrix"
   ]
  },
  {
   "cell_type": "code",
   "execution_count": 680,
   "metadata": {
    "deletable": false,
    "nbgrader": {
     "cell_type": "code",
     "checksum": "eb555e6019d34babe621c0ddfbf45ba3",
     "grade": true,
     "grade_id": "cell-8f310f57428d0fad",
     "locked": false,
     "points": 10,
     "schema_version": 3,
     "solution": true
    }
   },
   "outputs": [
    {
     "data": {
      "image/png": "[encoded data removed]",
      "text/plain": [
       "<Figure size 432x432 with 1 Axes>"
      ]
     },
     "metadata": {},
     "output_type": "display_data"
    }
   ],
   "source": [
    "# YOUR CODE HERE\n",
    "high = []\n",
    "medium = []\n",
    "low = []\n",
    "\n",
    "for i in range(interaction_matrix.shape[0]):\n",
    "    for j in range(i,interaction_matrix.shape[1]):\n",
    "        if interaction_matrix[i,j] > 500:\n",
    "            high.append((i,j))\n",
    "        elif 150<= interaction_matrix[i,j] <= 500:\n",
    "            medium.append((i,j))\n",
    "        elif 0< interaction_matrix[i,j] <150:\n",
    "            low.append((i,j))\n",
    "high_similarity_mean = np.mean([g_j_sim_matrix[i][j] for (i,j) in high])\n",
    "medium_similarity_mean = np.mean([g_j_sim_matrix[i][j] for (i,j) in medium])\n",
    "low_similarity_mean = np.mean([g_j_sim_matrix[i][j] for (i,j) in low])\n",
    "mean = [high_similarity_mean, medium_similarity_mean,low_similarity_mean]\n",
    "index = ['high', 'medium', 'low']\n",
    "\n",
    "plt.figure(figsize=(6, 6))\n",
    "plt.bar(index, mean)\n",
    "    \n",
    "plt.title(\"The average similarity of each category\")\n",
    "plt.xlabel('Interaction Strength (high, medium and low)')\n",
    "plt.ylabel('Average Similarity')\n",
    "\n",
    "plt.show()\n"
   ]
  },
  {
   "cell_type": "markdown",
   "metadata": {
    "deletable": false,
    "editable": false,
    "nbgrader": {
     "cell_type": "markdown",
     "checksum": "e49d1c5383d37f2bc17df3c63c7b764e",
     "grade": false,
     "grade_id": "cell-0f36e30ef21125de",
     "locked": true,
     "schema_version": 3,
     "solution": false,
     "task": false
    }
   },
   "source": [
    "## Question 6d (Free Response): Pair Interaction Strength\n",
    "\n",
    "These are some interesting connections between interaction strength and speech similarity.\n",
    "In the cell below, please use Markdown to note any interesting observations/analysis you can take-away from the results above. "
   ]
  },
  {
   "cell_type": "markdown",
   "metadata": {
    "deletable": false,
    "nbgrader": {
     "cell_type": "markdown",
     "checksum": "e13c5746a3e9ac40c767f5ad83ef616f",
     "grade": true,
     "grade_id": "cell-4ccdff07498d3831",
     "locked": false,
     "points": 5,
     "schema_version": 3,
     "solution": true
    }
   },
   "source": [
    "YOUR ANSWER HERE\n",
    "\n",
    "1. Interaction strength and speech similarity is highly positive related, high interaction strength also means the average similarity is high.\n",
    "\n",
    "2. This may because, when talk often, then they must have a strong relationship with each other, may be in life or blood relationship."
   ]
  },
  {
   "cell_type": "markdown",
   "metadata": {
    "deletable": false,
    "editable": false,
    "nbgrader": {
     "cell_type": "markdown",
     "checksum": "01e71c1bd19a74869404a0e0b19662a0",
     "grade": false,
     "grade_id": "cell-91e803434f5c67c1",
     "locked": true,
     "schema_version": 3,
     "solution": false
    }
   },
   "source": [
    "## Question 7 (Code Completion): Age Group and Social Interaction.\n",
    "\n",
    "Often we might want to examine how interactions differ depending on the characteristics of the people involved. In this case, we are interested in the extent to which people interact differently depending on the ages of the people they are talking to. \n",
    "\n",
    "For example, do people from one age group talk differently to people of other age groups than to people of their own?\n",
    "\n",
    "For simplicity, we will divide the characters into two age groups and name them P for Parent and C for Child. We provide an age group dictionary below. You are welcome to **additionally** explore on your own other speaker characteristics.  If you find something interesting fill out the optional free response cell below (7d).\n",
    "\n",
    "We will start by building a matrix with rows corresponding to age group combinations and columns correspodning to good type words. Age group combination (P, C) means that a person from group C is replying to a person from group P. In this analysis, we will consider all interactions, not just the good pairs.\n",
    "\n",
    "In the cell below, complete the specification by returning the desired Numpy array. \n",
    "\n",
    "Hint: You can reuse your helper functions from above or the logic in the your previous methods. <br>\n",
    "*Note: Only consider the good_types in replies*"
   ]
  },
  {
   "cell_type": "code",
   "execution_count": 461,
   "metadata": {
    "deletable": false,
    "editable": false,
    "nbgrader": {
     "cell_type": "code",
     "checksum": "21f5a2349453d859060035f584321034",
     "grade": false,
     "grade_id": "cell-9c91ab18daa3b361",
     "locked": true,
     "schema_version": 3,
     "solution": false
    }
   },
   "outputs": [],
   "source": [
    "# Here we provide you with the age groups for each character \n",
    "# and age group combinations of interactions that you will be working with\n",
    "age_group = {u'BRUCE': u'P',\n",
    "            u'JONATHAN': u'C',\n",
    "            u'KHLOE': u'C',\n",
    "            u'KIM': u'C',\n",
    "            u'KOURTNEY': u'C',\n",
    "            u'KRIS': u'P',\n",
    "            u'ROBERT':u'C',\n",
    "            u'SCOTT': u'C'}\n",
    "age_group_index = {'P':0, 'C':1}\n",
    "age_group_mat_index = {('P', 'P'):0, ('P', 'C'):1, ('C','P'):2, ('C','C'):3}"
   ]
  },
  {
   "cell_type": "code",
   "execution_count": 681,
   "metadata": {
    "deletable": false,
    "nbgrader": {
     "cell_type": "code",
     "checksum": "1f85732d3b2db920008c58d8c6c67b0d",
     "grade": false,
     "grade_id": "create_gender_words_mat",
     "locked": false,
     "schema_version": 3,
     "solution": true
    }
   },
   "outputs": [],
   "source": [
    "def create_age_words_mat(input_tokenize_method, input_deduped_transcripts,\n",
    "                         input_good_speakers, input_n_good_types):\n",
    "    \n",
    "    \"\"\"Returns a numpy array of shape 4 by n_good_types such that the \n",
    "    entry (i,j) indicates the how many times age group pair i says word j.\n",
    "    \n",
    "    Hint: You should use the global variables:\n",
    "        good_types_reverse_index,\n",
    "        age_group,\n",
    "        age_group_index,\n",
    "        age_group_mat_index\n",
    "    \n",
    "    Params: {input_tokenize_method: Function (a -> b),\n",
    "             input_deduped_transcripts: List,\n",
    "             input_good_speakers: List,\n",
    "             input_n_good_types: Integer}\n",
    "    Returns: Numpy Array\n",
    "    \"\"\"\n",
    "    # YOUR CODE HERE\n",
    "    age_words_mat1 = np.zeros((len(age_group_mat_index), input_n_good_types))\n",
    "    \n",
    "\n",
    "    for trans in input_deduped_transcripts:\n",
    "        speaker1 = 'none'\n",
    "        speaker2 = trans[1][0]['speaker']\n",
    "        for dic in trans[1]:\n",
    "            speaker1 = speaker2\n",
    "            speaker2 = dic['speaker']\n",
    "            if (speaker1 != speaker2) and speaker1 in age_group.keys() and speaker2 in age_group.keys(): \n",
    "                age_group_type = (age_group[speaker1], age_group[speaker2])\n",
    "                word_list = input_tokenize_method(dic['text'])\n",
    "                counter = Counter(word_list)\n",
    "                for key, value in counter.items():\n",
    "                    if key in good_types_reverse_index.keys():\n",
    "                        age_words_mat1[age_group_mat_index[age_group_type], good_types_reverse_index[key]] += value\n",
    "    return age_words_mat1"
   ]
  },
  {
   "cell_type": "code",
   "execution_count": 682,
   "metadata": {
    "deletable": false,
    "editable": false,
    "nbgrader": {
     "cell_type": "code",
     "checksum": "5efd8b5a629e05af67f255b528213de5",
     "grade": false,
     "grade_id": "cell-594f31685a436e9f",
     "locked": true,
     "schema_version": 3,
     "solution": false
    }
   },
   "outputs": [],
   "source": [
    "age_words_mat = create_age_words_mat(tokenize, deduped_transcripts, good_speakers, n_good_types)"
   ]
  },
  {
   "cell_type": "code",
   "execution_count": 683,
   "metadata": {
    "deletable": false,
    "editable": false,
    "nbgrader": {
     "cell_type": "code",
     "checksum": "76810d06adc0bf7684ca57a354763115",
     "grade": true,
     "grade_id": "create_gender_words_mat_test",
     "locked": true,
     "points": 20,
     "schema_version": 3,
     "solution": false
    }
   },
   "outputs": [],
   "source": [
    "# This is an autograder test. Here we can test the function you just wrote above.\n",
    "\"\"\"Check that create_age_words_mat returns the correct output\"\"\"\n",
    "assert type(age_words_mat) == np.ndarray\n",
    "assert age_words_mat.shape == (4,4517)\n",
    "assert sum(age_words_mat[1]) > 15000"
   ]
  },
  {
   "cell_type": "markdown",
   "metadata": {
    "deletable": false,
    "editable": false,
    "nbgrader": {
     "cell_type": "markdown",
     "checksum": "1df2395f07e1783d362a739552aaecbe",
     "grade": false,
     "grade_id": "cell-bbbae67c94ac93a3",
     "locked": true,
     "schema_version": 3,
     "solution": false
    }
   },
   "source": [
    "## Question 7b (Code Completion): Age Group and Social Interaction.\n",
    "\n",
    "As we finish this portion of the analysis, we end by scoring the words by the ratio between how often a given age group combination said it and how often all of the combinations said it. This can be done quite simply with numpy primitives. As in Question 4, we will use additive smoothing to de-emphasize ratios of less frequent words.\n",
    "\n",
    "In the cell below, complete the specification and return the weighted words by each age group pair:\n",
    "\n",
    "Hint: You can reuse your helper functions from above or the logic in the your previous methods. "
   ]
  },
  {
   "cell_type": "code",
   "execution_count": 684,
   "metadata": {
    "deletable": false,
    "nbgrader": {
     "cell_type": "code",
     "checksum": "3e1a6b4e206548e0475ad4e49d6ed1c1",
     "grade": false,
     "grade_id": "create_gender_weighted_words",
     "locked": false,
     "schema_version": 3,
     "solution": true
    }
   },
   "outputs": [],
   "source": [
    "def create_age_weighted_words(input_age_words_mat):\n",
    "    \"\"\"Returns a numpy array with the same shape as input_age_words_mat\n",
    "    such that the entry (i,j) indicates a weighted score showing\n",
    "    how often a given age group pair said a good type word\n",
    "    \n",
    "    Hint: Use numpy primitives to make this function optimal\n",
    "    \n",
    "    Note: Words may not be said by any age group pair.\n",
    "    \n",
    "    Params: {input_age_words_mat: Numpy array}\n",
    "    Returns: Numpy Array\n",
    "    \"\"\"\n",
    "    # YOUR CODE HERE\n",
    "    input_age_words_mat_dup = np.copy(input_age_words_mat)\n",
    "    return (input_age_words_mat_dup+1)/(np.sum(input_age_words_mat_dup, axis =0)+input_age_words_mat_dup.shape[0])"
   ]
  },
  {
   "cell_type": "code",
   "execution_count": 685,
   "metadata": {
    "deletable": false,
    "editable": false,
    "nbgrader": {
     "cell_type": "code",
     "checksum": "1de810700abde0ad920c162ffd77872a",
     "grade": false,
     "grade_id": "cell-6c81c191f85a2615",
     "locked": true,
     "schema_version": 3,
     "solution": false
    }
   },
   "outputs": [],
   "source": [
    "age_weighted_words = create_age_weighted_words(age_words_mat)"
   ]
  },
  {
   "cell_type": "code",
   "execution_count": 686,
   "metadata": {
    "deletable": false,
    "editable": false,
    "nbgrader": {
     "cell_type": "code",
     "checksum": "c8d3f8404e4eaffcb063186d25227522",
     "grade": true,
     "grade_id": "create_gender_weighted_words_test",
     "locked": true,
     "points": 15,
     "schema_version": 3,
     "solution": false
    }
   },
   "outputs": [],
   "source": [
    "# This is an autograder test. Here we can test the function you just wrote above.\n",
    "\"\"\"Check that create_gender_weighted_words returns the correct output\"\"\"\n",
    "assert type(age_weighted_words) == np.ndarray\n",
    "assert age_weighted_words.shape == (4,4517)\n",
    "assert_almost_equal(round(sum(age_weighted_words[:,0]), 5), 1)\n",
    "assert_almost_equal(age_weighted_words[0, 1], 0.1)"
   ]
  },
  {
   "cell_type": "code",
   "execution_count": 687,
   "metadata": {
    "deletable": false,
    "editable": false,
    "nbgrader": {
     "cell_type": "code",
     "checksum": "812a37d2c8466cd7f4ee18026ae8cdef",
     "grade": false,
     "grade_id": "cell-19da82a0167b0d85",
     "locked": true,
     "schema_version": 3,
     "solution": false
    }
   },
   "outputs": [
    {
     "name": "stdout",
     "output_type": "stream",
     "text": [
      "P P\n",
      "0.64 surgery\n",
      "0.62 chris\n",
      "0.62 garage\n",
      "0.62 planners\n",
      "0.62 atm\n",
      "0.60 bored\n",
      "0.60 card\n",
      "0.57 brake\n",
      "0.57 fluffy\n",
      "0.57 local\n",
      "\n",
      "P C\n",
      "0.82 apparently\n",
      "0.79 necessary\n",
      "0.73 wind\n",
      "0.70 coats\n",
      "0.70 desperate\n",
      "0.70 fur\n",
      "0.67 insensitive\n",
      "0.64 furs\n",
      "0.64 yours\n",
      "0.63 mom\n",
      "\n",
      "C P\n",
      "0.70 american\n",
      "0.70 bunny\n",
      "0.70 genetic\n",
      "0.70 hop\n",
      "0.69 alcoholic\n",
      "0.67 addiction\n",
      "0.67 appropriate\n",
      "0.67 backup\n",
      "0.67 cards\n",
      "0.67 cranky\n",
      "\n",
      "C C\n",
      "0.90 afraid\n",
      "0.84 bible\n",
      "0.83 ugly\n",
      "0.83 reading\n",
      "0.82 begins\n",
      "0.82 cheating\n",
      "0.81 acceptable\n",
      "0.81 freak\n",
      "0.81 able\n",
      "0.81 eyes\n",
      "\n"
     ]
    }
   ],
   "source": [
    "for i, j in age_group_mat_index.keys():\n",
    "    print(i, j)\n",
    "    words = age_weighted_words[age_group_mat_index[(i, j)]]\n",
    "    ranked = sorted(enumerate(words), key=lambda x:x[1], reverse=True)\n",
    "    for index, score in ranked[:10]:\n",
    "        print('{:.2f} {}'.format(score, good_types[index]))\n",
    "    print()"
   ]
  },
  {
   "cell_type": "markdown",
   "metadata": {
    "deletable": false,
    "editable": false,
    "nbgrader": {
     "cell_type": "markdown",
     "checksum": "44dbc1e044bacd3879671cce0d190924",
     "grade": false,
     "grade_id": "cell-ec5aa038d6dc2da4",
     "locked": true,
     "schema_version": 3,
     "solution": false
    }
   },
   "source": [
    "## Question 7c (Free Response): Age Group and Social Interaction.\n",
    "\n",
    "These are some interesting results in regards to uncovering age group and the social interaction between age group pairs. \n",
    "\n",
    "\n",
    "In the cell below, please use Markdown to note any interesting observations/analysis you can take-away from the results above. "
   ]
  },
  {
   "cell_type": "markdown",
   "metadata": {
    "deletable": false,
    "nbgrader": {
     "cell_type": "markdown",
     "checksum": "9c12b0cb83f61db495c34c73e1adc39b",
     "grade": true,
     "grade_id": "create_gender_weighted_words_ans",
     "locked": false,
     "points": 10,
     "schema_version": 3,
     "solution": true
    }
   },
   "source": [
    "YOUR ANSWER HERE\n",
    "\n",
    "1. Parents themselves tend to talk about medical stuff (because they are old and need sugery sometimes). They also talk a lot about work and their boring life.\n",
    "\n",
    "2. If children are replying their parents, children address ‘Mom’ respectfully, besides, they tend to reply with very affirmative words like: apperent and necessary, maybe they are too you to be mature.\n",
    "\n",
    "3. If parents are replying their children, they might call their baby 'Bunny', besides, they might worry about the health of their child, so they may persuade them to keep away from 'alcoholic', 'addiction' or any 'cranky' behaviour.\n",
    "\n",
    "4. If children are talking with each other, they will talk a lot about gossips, using words like 'ugly', 'cheating' and 'freak'"
   ]
  },
  {
   "cell_type": "markdown",
   "metadata": {
    "deletable": false,
    "editable": false,
    "nbgrader": {
     "cell_type": "markdown",
     "checksum": "276ac458afebf98a733d24f429f07598",
     "grade": false,
     "grade_id": "cell-8fdd5757bbe45f71",
     "locked": true,
     "schema_version": 3,
     "solution": false,
     "task": false
    }
   },
   "source": [
    "## Question 7d (Free Response): Other Characteristics and Social Interaction. (Optional)\n",
    "\n",
    "We might want to examine how interactions differ depending on other characteristics of the people involved. \n",
    "You are welcome to **additionally** explore on your own other characteristics of the people. If you find something interesting fill out the optional free response cell below.<br>\n",
    "While no extra points will be awarded for this task, it may help you with your A2EC assignment.\n"
   ]
  },
  {
   "cell_type": "code",
   "execution_count": 481,
   "metadata": {
    "deletable": false,
    "nbgrader": {
     "cell_type": "code",
     "checksum": "b6f0b4c1c96bb7bcd5814f7347f7c95a",
     "grade": true,
     "grade_id": "cell-20e019e0254f9f1f",
     "locked": false,
     "points": 0,
     "schema_version": 3,
     "solution": true
    }
   },
   "outputs": [],
   "source": [
    "# YOUR CODE HERE"
   ]
  },
  {
   "cell_type": "markdown",
   "metadata": {
    "deletable": false,
    "editable": false,
    "nbgrader": {
     "cell_type": "markdown",
     "checksum": "69d1f35e0882e7c0105c67babad46dae",
     "grade": false,
     "grade_id": "cell-374772303edd6492",
     "locked": true,
     "schema_version": 3,
     "solution": false
    }
   },
   "source": [
    "## Priming. How much is a character's word choice influenced by the person they are speaking to?\n",
    "\n",
    "<a href=https://en.wikipedia.org/wiki/Priming_(psychology)>Priming</a> is the phenomenon where a speaker tends to repeat certain words or language characteristics of the person they are replying to. It turns out that priming can often be observed in conversation. If A is talking to B, B will sometimes mirror A's language.\n",
    "\n",
    "## Question 8 (Code Completion): Character Priming\n",
    "\n",
    "In this analysis we will be looking at priming: i.e. when speaker B replies to speaker A, what is the probability that a word said by A will be repeated by B? \n",
    "\n",
    "That is, how many of the words in B's reply were also said by A (normalized by the number of words B said in total)?\n",
    "Specifically, consider the following example:\n",
    "\n",
    "```\n",
    "Catelyn : Hi Ned, it is a really nice day today. Yes, it is.\n",
    "Ned : It is a really really nice day today. Yes.\n",
    "```\n",
    "\n",
    "We should take the set of all words said by Catelyn $W_c = \\{ \\text{hi}, \\text{ned}, \\text{it}, \\text{is}, \\text{a}, \\text{really}, \\text{nice}, \\text{day}, \\text{today}, \\text{yes}\\}$ and the set of all words said by Ned $W_n = \\{ \\text{it}, \\text{is}, \\text{a}, \\text{really}, \\text{nice}, \\text{day}, \\text{today}, \\text{yes}\\}$, and compute the *priming computation*:\n",
    "\n",
    "$$\\frac{\\left|W_c \\cap W_n\\right|}{\\left|W_n\\right|}$$\n",
    "\n",
    "For a specific *ordered* pair of speakers A and B, we calculate the *arithmetic mean* of priming computations among all instances of B replying to A to get a single number between 0 and 1 as the answer to this question. That is, sum up the primed proportion for every B's reply to A and divide it by the number of times B replied to A.\n",
    "\n",
    "The next couple methods will walk you through necessary pre-computations to get this priming matrix.\n",
    "Do read through these functions carefully as you will be using their results."
   ]
  },
  {
   "cell_type": "code",
   "execution_count": 584,
   "metadata": {
    "deletable": false,
    "editable": false,
    "nbgrader": {
     "cell_type": "code",
     "checksum": "9c0704056518890b504ef121b0c0a4c1",
     "grade": false,
     "grade_id": "cell-2e2e52527668c6db",
     "locked": true,
     "schema_version": 3,
     "solution": false
    }
   },
   "outputs": [],
   "source": [
    "def merge_deduped(transcripts):\n",
    "    \"\"\"Merges adjacent transcript lines by the same speaker\"\"\"\n",
    "    result = [] \n",
    "    for t_id, tscript in transcripts:\n",
    "        prev_speaker = tscript[0]['speaker']\n",
    "        prev_line = tscript[0]['text']\n",
    "        tscript_result = [] \n",
    "        for i in range(1, len(tscript)): \n",
    "            curr_speaker = tscript[i]['speaker']\n",
    "            curr_line = tscript[i]['text']\n",
    "            if curr_speaker == prev_speaker: \n",
    "                prev_line = prev_line + \" \" + curr_line \n",
    "            else: \n",
    "                tscript_result.append({'speaker': prev_speaker, \n",
    "                                       'text': prev_line})\n",
    "                prev_speaker = curr_speaker \n",
    "                prev_line    = curr_line \n",
    "            if i == len(tscript)-1: \n",
    "                tscript_result.append({'speaker': prev_speaker, \n",
    "                                        'text': prev_line})\n",
    "        result.append((t_id, tscript_result))\n",
    "    return result \n",
    "\n",
    "merged_deduped_transcripts = merge_deduped(deduped_transcripts) \n",
    "\n",
    "def prev_lines_and_replies(A, B, tscript): \n",
    "    \"\"\"Creates an array of all the transcript lines \n",
    "    involving supposed correspondence between A \n",
    "    (first speaker) and B (second speaker), both\n",
    "    previous message and current message\"\"\"\n",
    "    \n",
    "    # Prepare results for B responses to A, \n",
    "    # previous speak \n",
    "    result = []\n",
    "    prev_speaker = None \n",
    "    prev_line = None\n",
    "    \n",
    "    # Go through every line of the transcript \n",
    "    for line in tscript:\n",
    "        curr_speaker = line['speaker']\n",
    "        \n",
    "        # If dialogue has happened \n",
    "        if ((curr_speaker == B and prev_speaker == A)): \n",
    "            # Add the previous line and the current line \n",
    "            result.append([prev_line, line])\n",
    "        \n",
    "        # Update the speaker + line \n",
    "        prev_speaker = curr_speaker \n",
    "        prev_line = line \n",
    "            \n",
    "    return result\n",
    "\n",
    "\n",
    "def ordered_lines_for_pair(A, B):\n",
    "    \"\"\"Gathers all lines in all transcripts for an\n",
    "    ORDERED pair of characters\"\"\"\n",
    "    \n",
    "    result = [] \n",
    "\n",
    "    for _, tscript in merged_deduped_transcripts:\n",
    "        result = result + prev_lines_and_replies(A, B, tscript)\n",
    "    return result \n",
    "\n",
    "def ordered_pairs_all_lines():\n",
    "    \"\"\"Gathers all lines in all transcripts for all ORDERED pairs \n",
    "    of good characters\"\"\"\n",
    "    \n",
    "    result = dict()  \n",
    "    \n",
    "    # Setup pairings (tuples)\n",
    "    for i in range(0, n_good_speakers):\n",
    "        for j in range(0, n_good_speakers):\n",
    "            if i != j:\n",
    "                tup = (good_speakers[i], good_speakers[j])\n",
    "                result[tup] = ordered_lines_for_pair(*tup)    \n",
    "    return result \n",
    "\n",
    "# Groupings per pair \n",
    "ordered_pairs_lines = ordered_pairs_all_lines()"
   ]
  },
  {
   "cell_type": "markdown",
   "metadata": {
    "deletable": false,
    "editable": false,
    "nbgrader": {
     "cell_type": "markdown",
     "checksum": "b415dd099f463fa5e35fedc2ee7a0da1",
     "grade": false,
     "grade_id": "cell-afb7e00494e1e19b",
     "locked": true,
     "schema_version": 3,
     "solution": false,
     "task": false
    }
   },
   "source": [
    "So, `ordered_pairs_lines` is a data structure containing all of the lines and replies between the pairs of speakers, organized in the following way:\n",
    "\n",
    "`dict -> list -> list -> dict`\n",
    "```\n",
    "(A, B) : [\n",
    "           [{speaker: A, text: ...}, {speaker: B, text: ...}],\n",
    "           [{speaker: A, text: ...}, {speaker: B, text: ...}],\n",
    "           ...\n",
    "         ]\n",
    "```\n",
    "\n",
    "For example (not taken directlt from the transcripts):\n",
    "```\n",
    "('BRUCE', 'JONATHAN') : [\n",
    "                          [{'speaker' : 'BRUCE', 'text': 'The guy's hitting on you, big-time.'},\n",
    "                           {'speaker' : 'JONATHAN', 'text': 'And I'm out of here early today.'}],\n",
    "                          [{'speaker' : 'BRUCE', 'text': 'No, I'm not making a scene.'},\n",
    "                           {'speaker' : 'JONATHAN', 'text': 'What is that?'}],\n",
    "                         ]\n",
    "```"
   ]
  },
  {
   "cell_type": "markdown",
   "metadata": {
    "deletable": false,
    "editable": false,
    "nbgrader": {
     "cell_type": "markdown",
     "checksum": "f5f4d0be29be9e02a023f6256e4922d9",
     "grade": false,
     "grade_id": "cell-dacf9e4af0270a7c",
     "locked": true,
     "schema_version": 3,
     "solution": false
    }
   },
   "source": [
    "In the cell below, fulfill the specification to return a priming matrix:\n",
    "\n",
    "Note: Ensure that they only good_types are used. If you find that there are no good types in Speaker B's reply, skip that pair of lines (do not add anything to totals or proportions matrices) since there is no priming computation to be done."
   ]
  },
  {
   "cell_type": "code",
   "execution_count": 585,
   "metadata": {
    "deletable": false,
    "nbgrader": {
     "cell_type": "code",
     "checksum": "dafc308a86fe20dc503b38e73b86d45e",
     "grade": false,
     "grade_id": "pair_priming_mat",
     "locked": false,
     "schema_version": 3,
     "solution": true
    }
   },
   "outputs": [],
   "source": [
    "def create_pair_priming_mat(tokenize_method, input_ordered_pair_lines,\n",
    "                            input_good_speakers, input_n_speakers):\n",
    "    \"\"\"Returns a numpy array of size n_speakers by n_speakers where entry (i,j) is\n",
    "    the mean of priming computations (proportions where numerator is the number of \n",
    "    good types in j's reply also said by i and denominator is number of good types\n",
    "    in j's reply) across all pairs of lines where j replied to i.\n",
    "    \n",
    "    Hint: Use numpy primitives to make this function optimal.\n",
    "          You should use the good_types_reverse_index global variable. \n",
    "    \n",
    "    Steps: \n",
    "        1. Iterate through each tuple (for each pair i,j)\n",
    "        2. Grab only good types\n",
    "        3. Do necessary priming calculations \n",
    "    \n",
    "    Params: {tokenize_method: Function a -> b,\n",
    "             input_ordered_pairs: Dict,\n",
    "             input_n_speakers: Integer}\n",
    "    Returns: Numpy array\n",
    "    \"\"\"\n",
    "                \n",
    "    # We are providing you the code structure below to help you get\n",
    "    # started in the right direction. You may edit it, if you want.\n",
    "    good_types_set = set(good_types_reverse_index.keys())\n",
    "            \n",
    "    # Resultant matricies \n",
    "    proportions = np.zeros((input_n_speakers, input_n_speakers))\n",
    "    totals = np.zeros((input_n_speakers, input_n_speakers))\n",
    "    # All the pairs \n",
    "    for pair in input_ordered_pair_lines.keys(): \n",
    "        A = pair[0] # A, who is prompting B\n",
    "        i = input_good_speakers.index(A)\n",
    "        B = pair[1] # B, who is responding to A\n",
    "        j = input_good_speakers.index(B)\n",
    "        # For tuple arrays for each pair \n",
    "        for arrs in input_ordered_pair_lines[pair]:\n",
    "            # Grab sets of words \n",
    "            response = tokenize_method(arrs[1]['text'])\n",
    "            B_sent = set(response)\n",
    "            A_sent = set(tokenize_method(arrs[0]['text'])) \n",
    "            \n",
    "            # Reduce B_sent to just good types\n",
    "            # Up the total number of correspondences for each pair\n",
    "            # Compute priming calculations and sum for each pair\n",
    "        # YOUR CODE HERE\n",
    "            proportions[i,j] += len(A_sent & B_sent)\n",
    "            totals[i,j] += len(B_sent)\n",
    "    totals[totals == 0] += 1\n",
    "    answer = proportions / totals # get arithmetic mean\n",
    "    return answer"
   ]
  },
  {
   "cell_type": "code",
   "execution_count": 586,
   "metadata": {
    "deletable": false,
    "editable": false,
    "nbgrader": {
     "cell_type": "code",
     "checksum": "da04e7d86cabe31c1dabf092825c04e0",
     "grade": false,
     "grade_id": "cell-75aaefbe8273b3ff",
     "locked": true,
     "schema_version": 3,
     "solution": false
    }
   },
   "outputs": [],
   "source": [
    "pair_priming_mat = create_pair_priming_mat(tokenize, ordered_pairs_lines, good_speakers, n_good_speakers)"
   ]
  },
  {
   "cell_type": "code",
   "execution_count": 587,
   "metadata": {
    "deletable": false,
    "editable": false,
    "nbgrader": {
     "cell_type": "code",
     "checksum": "40c84b3a753726cbc2ada6ef7f84254e",
     "grade": true,
     "grade_id": "pair_priming_mat_test",
     "locked": true,
     "points": 25,
     "schema_version": 3,
     "solution": false
    }
   },
   "outputs": [],
   "source": [
    "# This is an autograder test. Here we can test the function you just wrote above.\n",
    "\"\"\"Check that pair_priming_mat returns the correct output\"\"\"\n",
    "assert type(pair_priming_mat) == np.ndarray\n",
    "assert pair_priming_mat.shape == (8, 8)\n",
    "assert pair_priming_mat[0][0] == 0\n",
    "assert pair_priming_mat[1][0] == 0\n",
    "assert sum(pair_priming_mat[5]) > 0.7 and sum(pair_priming_mat[5]) < 0.8"
   ]
  },
  {
   "cell_type": "code",
   "execution_count": 588,
   "metadata": {
    "deletable": false,
    "editable": false,
    "nbgrader": {
     "cell_type": "code",
     "checksum": "1d7e8e857755d81ec8b2f35a251adfc6",
     "grade": false,
     "grade_id": "cell-788ea601759b9cc6",
     "locked": true,
     "schema_version": 3,
     "solution": false
    }
   },
   "outputs": [
    {
     "data": {
      "image/png": "[encoded data removed]",
      "text/plain": [
       "<Figure size 432x288 with 2 Axes>"
      ]
     },
     "metadata": {},
     "output_type": "display_data"
    }
   ],
   "source": [
    "plt.imshow(pair_priming_mat, interpolation='none', cmap=plt.cm.Greys)\n",
    "plt.colorbar()\n",
    "plt.xticks(range(n_good_speakers), good_speakers, rotation=90)\n",
    "plt.yticks(range(n_good_speakers), good_speakers)\n",
    "plt.show() "
   ]
  },
  {
   "cell_type": "markdown",
   "metadata": {
    "deletable": false,
    "editable": false,
    "nbgrader": {
     "cell_type": "markdown",
     "checksum": "c0d83f7083d4bb57c8a237e991ad706e",
     "grade": false,
     "grade_id": "cell-b3892eb6e2d13976",
     "locked": true,
     "schema_version": 3,
     "solution": false
    }
   },
   "source": [
    "Consider the three character pairs with the most priming, as well as the three with the least.\n",
    "\n",
    "Note that priming is not symmetric. For example, Kim might tend to mimic Kourtney more than the other way around.\n",
    "\n",
    "In the code we provided below we have ignored *ordered* pairs that have fewer than 100 words. Analyze the code and results provided:"
   ]
  },
  {
   "cell_type": "code",
   "execution_count": 589,
   "metadata": {
    "deletable": false,
    "editable": false,
    "nbgrader": {
     "cell_type": "code",
     "checksum": "1d86937f82cd8142f9b78890ae45b144",
     "grade": false,
     "grade_id": "cell-908e524fd5c4ed8a",
     "locked": true,
     "schema_version": 3,
     "solution": false
    }
   },
   "outputs": [
    {
     "name": "stdout",
     "output_type": "stream",
     "text": [
      "Top 3 pairs:\n",
      "- KRIS repeats KHLOE ( score: 0.1466 )\n",
      "- KOURTNEY repeats KIM ( score: 0.1316 )\n",
      "- KIM repeats KOURTNEY ( score: 0.1295 )\n",
      "Bottom 3 pairs:\n",
      "- BRUCE repeats KOURTNEY ( score: 0.0913 )\n",
      "- KHLOE repeats ROBERT ( score: 0.0834 )\n",
      "- SCOTT repeats BRUCE ( score: 0.0828 )\n"
     ]
    }
   ],
   "source": [
    "mat_items = []\n",
    "for i in range(n_good_speakers):\n",
    "    for j in range(n_good_speakers):\n",
    "        if i != j and reply_matrix[i, j] >= 100:\n",
    "            mat_items.append((pair_priming_mat[i, j], (i, j)))\n",
    "mat_items.sort() \n",
    "\n",
    "print(\"Top 3 pairs:\")\n",
    "top_3_priming_pairs = []\n",
    "for score, (i, j) in reversed(mat_items[-3:]):\n",
    "    top_3_priming_pairs.append((i, j))\n",
    "    print(\"- {} repeats {} ( score: {:.4f} )\".format(good_speakers[j], good_speakers[i], score, 5))\n",
    "print(\"Bottom 3 pairs:\")\n",
    "for score, (i, j) in reversed(mat_items[:3]):\n",
    "    print(\"- {} repeats {} ( score: {:.4f} )\".format(good_speakers[j], good_speakers[i], score, 5))"
   ]
  },
  {
   "cell_type": "markdown",
   "metadata": {
    "deletable": false,
    "editable": false,
    "nbgrader": {
     "cell_type": "markdown",
     "checksum": "a51911a9c3da54688c5b6b3e555c1c16",
     "grade": false,
     "grade_id": "cell-2c6a2f483f0db923",
     "locked": true,
     "schema_version": 3,
     "solution": false,
     "task": false
    }
   },
   "source": [
    "## Question 8b (Free Response): Character Priming\n",
    "\n",
    "In the cell below, please use Markdown to describe anything that you notice about the heatmap generated from the priming matrix as well as the results above, in regards to the top/bottom 3 priming pairs. Were you expecting these results or are were you surprised?  "
   ]
  },
  {
   "cell_type": "markdown",
   "metadata": {
    "deletable": false,
    "nbgrader": {
     "cell_type": "markdown",
     "checksum": "cc30d031215074eb26dcf85e6e25def7",
     "grade": true,
     "grade_id": "cell-3378faa3e7dfb8b9",
     "locked": false,
     "points": 10,
     "schema_version": 3,
     "solution": true
    }
   },
   "source": [
    "YOUR ANSWER HERE\n",
    "\n",
    "1. From the heatmap, the darkest one is (BRUCE, JONATHAN), which means J mimic a lot from Bruce. However, based on the reply_matrix, this record is deleted from the pair_priming_mat, as this pair have fewer than 100 words.\n",
    "\n",
    "2. The people whose words are mostly repeated by others are all child and the person whose words are least repeated by others contains parents. This means that children would repeat pears' words while they are not willing to repeat their parents.\n"
   ]
  },
  {
   "cell_type": "markdown",
   "metadata": {
    "deletable": false,
    "editable": false,
    "nbgrader": {
     "cell_type": "markdown",
     "checksum": "0bd6058d809504f4b0cde4a02e89bac2",
     "grade": false,
     "grade_id": "cell-419f900bc4bd9319",
     "locked": true,
     "schema_version": 3,
     "solution": false
    }
   },
   "source": [
    "## Question 8c (Code Completion): Character Priming\n",
    "Next we are interested in the actual words that are being repeated in replies and how many times they are being repeated.\n",
    "\n",
    "In the following example:\n",
    "```\n",
    "Catelyn : Hi Ned, it is a really nice day today. Yes, it is.\n",
    "Ned : It is a really really nice day today. Yes.\n",
    "```\n",
    "We see that Ned repeats the words *it*, *is*, *a*, *nice*, *day*, *today*, and *yes* one time, and *really* two times. \n",
    "\n",
    "Note that in this analysis, we do not concern ourselves with how many times Catelyn repeats a word. That is, we disregard the fact that Catelyn has said the words *it* and *is* two times. We are only interested if Ned repeats words that Catelyn has said. \n",
    "\n",
    "For each of the three most-primed ordered pairs, what are the top 10 *good_types* being repeated? In the cell below, satisfy the specification to return the counts of repeated `good_types` per pair by returning a dictionary of word counts per ordered pair in the following format:\n",
    "\n",
    "```\n",
    "{(CHARACTER_NAME_A, CHARACTER_NAME_B): \n",
    "    {word_1:count_1, word_2:count_2, ...}\n",
    "...}\n",
    "```"
   ]
  },
  {
   "cell_type": "code",
   "execution_count": 590,
   "metadata": {
    "deletable": false,
    "editable": false,
    "nbgrader": {
     "cell_type": "code",
     "checksum": "24aa9e510d70b58d75903cf1c8365481",
     "grade": false,
     "grade_id": "cell-5108a3920ac7b799",
     "locked": true,
     "schema_version": 3,
     "solution": false
    }
   },
   "outputs": [],
   "source": [
    "## Helper variables for the following cell\n",
    "ordered_pairs = list(ordered_pairs_lines.keys())\n",
    "n_ordered_pairs = len(ordered_pairs)\n",
    "ordered_pair_lookup = {}\n",
    "for i in range(0, n_ordered_pairs):\n",
    "    ordered_pair_lookup[ordered_pairs[i]] = i"
   ]
  },
  {
   "cell_type": "code",
   "execution_count": 629,
   "metadata": {
    "deletable": false,
    "nbgrader": {
     "cell_type": "code",
     "checksum": "4e4c5b8facc48c3c92923237e285c0af",
     "grade": false,
     "grade_id": "wc_per_ord_pair",
     "locked": false,
     "schema_version": 3,
     "solution": true
    }
   },
   "outputs": [],
   "source": [
    "import copy\n",
    "\n",
    "def word_counts_per_ordered_pair(tokenize_method, input_ordered_pairs, input_ordered_pairs_lines):\n",
    "    \"\"\"Returns a dictionary that contains all the word counts of primed words (good_types)\n",
    "    per ordered pair in the following format:\n",
    "        {\n",
    "         (character_index_a, character_index_b): {word_1:count_1, word_2:count_2...},\n",
    "         (character_index_a, character_index_c): {word_1:count_1, word_2:count_2...},\n",
    "                    \n",
    "        ...}\n",
    "    \n",
    "    Hint: Make sure to use the good_types_reverse_index global variable\n",
    "    \n",
    "    Note: The dictionary you are returning should contain all word counts of\n",
    "    primed words(good_types), not just the top 10, and for all pairs, not just the top 3.\n",
    "    \n",
    "    Params: {tokenize_method: Function (a -> b),\n",
    "             input_ordered_pairs: List\n",
    "             input_ordered_pair_lines: Dict}\n",
    "    Returns: Dict \n",
    "    \"\"\"\n",
    "    # YOUR CODE HERE\n",
    "    a = {}\n",
    "    for pair in ordered_pairs_lines.keys():\n",
    "        a_words = []\n",
    "        b_words = []\n",
    "        for arrs in ordered_pairs_lines[pair]:\n",
    "            b_words += tokenize_method(arrs[1]['text'])\n",
    "            a_words += tokenize_method(arrs[0]['text'])\n",
    "\n",
    "        common_words = set(a_words) & set(b_words)\n",
    "        b_count = Counter(b_words)\n",
    "        a[pair] = {}\n",
    "        good_types_reverse_index_set = set(good_types_reverse_index.keys())\n",
    "        for key in common_words:\n",
    "            if key in good_types_reverse_index_set:\n",
    "                a[pair][key] = b_count[key]\n",
    "    return a\n",
    "            "
   ]
  },
  {
   "cell_type": "code",
   "execution_count": 630,
   "metadata": {
    "deletable": false,
    "editable": false,
    "nbgrader": {
     "cell_type": "code",
     "checksum": "96e41420b837ddd12aecd7453d81b5c9",
     "grade": false,
     "grade_id": "cell-4cae06507692cc8e",
     "locked": true,
     "schema_version": 3,
     "solution": false
    }
   },
   "outputs": [],
   "source": [
    "priming_word_counts = word_counts_per_ordered_pair(tokenize,ordered_pairs,ordered_pairs_lines)"
   ]
  },
  {
   "cell_type": "code",
   "execution_count": 631,
   "metadata": {
    "deletable": false,
    "editable": false,
    "nbgrader": {
     "cell_type": "code",
     "checksum": "985a57732e16486343da955bbe7bc380",
     "grade": true,
     "grade_id": "wc_per_ord_pair_test",
     "locked": true,
     "points": 15,
     "schema_version": 3,
     "solution": false
    }
   },
   "outputs": [],
   "source": [
    "# This is an autograder test. Here we can test the function you just wrote above.\n",
    "\"\"\"Check that priming_word_counts returns the correct output\"\"\"\n",
    "assert type(priming_word_counts) == dict\n",
    "assert len(priming_word_counts[('BRUCE', 'JONATHAN')]) > 0\n",
    "assert len(priming_word_counts[('KRIS', 'KOURTNEY')]) > 100\n",
    "assert sum(priming_word_counts[('KIM', 'KRIS')].values()) > 1000"
   ]
  },
  {
   "cell_type": "markdown",
   "metadata": {
    "deletable": false,
    "editable": false,
    "nbgrader": {
     "cell_type": "markdown",
     "checksum": "bc92df7181dd0ba3b08b21fea8fda27f",
     "grade": false,
     "grade_id": "cell-659c7e02d0bf9a46",
     "locked": true,
     "schema_version": 3,
     "solution": false,
     "task": false
    }
   },
   "source": [
    "## Question 8d (Code Completion): Character Priming\n",
    "To complete your analysis print the top 10 words used by the top 3 priming pairs. The expected format is the following: \n",
    "\n",
    "```\n",
    "CHARACTER_NAME_A1 CHARACTER_NAME_A2\n",
    "WORD_1_COUNTS WORD_1\n",
    " ...\n",
    "WORD_10_COUNTS WORD_10\n",
    "\n",
    "CHARACTER_NAME_B1 CHARACTER_NAME_B2\n",
    "WORD_1_COUNTS WORD_1\n",
    " ...\n",
    "WORD_10_COUNTS WORD_10\n",
    "\n",
    "CHARACTER_NAME_C1 CHARACTER_NAME_C2\n",
    "WORD_1_COUNTS WORD_1\n",
    " ...\n",
    "WORD_10_COUNTS WORD_10\n",
    "\n",
    "```\n",
    "Where (A1, A2), (B1, B2), and (C1, C2) represent the top 3 priming pairs.\n",
    "\n",
    "You can use the global variable `top_3_priming_pairs`"
   ]
  },
  {
   "cell_type": "code",
   "execution_count": 633,
   "metadata": {
    "deletable": false,
    "nbgrader": {
     "cell_type": "code",
     "checksum": "dc6f8f7e9e363ff9493485d26db8928b",
     "grade": true,
     "grade_id": "cell-2e98eb8cf4dad010",
     "locked": false,
     "points": 10,
     "schema_version": 3,
     "solution": true
    }
   },
   "outputs": [
    {
     "name": "stdout",
     "output_type": "stream",
     "text": [
      "KHLOE KRIS\n",
      "416 you\n",
      "404 i\n",
      "322 to\n",
      "223 s\n",
      "206 a\n",
      "182 and\n",
      "180 the\n",
      "160 it\n",
      "149 that\n",
      "107 khloe\n",
      "KIM KOURTNEY\n",
      "315 i\n",
      "199 to\n",
      "169 you\n",
      "128 s\n",
      "122 and\n",
      "115 like\n",
      "113 the\n",
      "112 t\n",
      "108 it\n",
      "104 that\n",
      "KOURTNEY KIM\n",
      "378 i\n",
      "230 you\n",
      "199 to\n",
      "147 and\n",
      "147 it\n",
      "147 s\n",
      "122 the\n",
      "116 like\n",
      "112 a\n",
      "109 that\n"
     ]
    }
   ],
   "source": [
    "# YOUR CODE HERE\n",
    "top_3_priming_pairs\n",
    "\n",
    "for pair in top_3_priming_pairs:\n",
    "    print(good_speakers[pair[0]]+ ' ' + good_speakers[pair[1]])\n",
    "    words = priming_word_counts[(good_speakers[pair[0]], good_speakers[pair[1]])]\n",
    "    sort_tuple = sorted(words.items(), key=lambda x: x[1], reverse=True)\n",
    "    for i in range(10):\n",
    "        print (str(sort_tuple[i][1]) + ' ' + sort_tuple[i][0])"
   ]
  },
  {
   "cell_type": "markdown",
   "metadata": {
    "deletable": false,
    "editable": false,
    "nbgrader": {
     "cell_type": "markdown",
     "checksum": "f27b1ece5f79aef1187a85487238e33c",
     "grade": false,
     "grade_id": "cell-b14220dea82382ee",
     "locked": true,
     "schema_version": 3,
     "solution": false,
     "task": false
    }
   },
   "source": [
    "## Question 8e (Free response): Character Priming (Optional)\n",
    "We have previously defined interaction strength and looked at the relationship between interaction strength and similarity. Here, we might also want to take a look at how interaction strength relates to the level of priming in each pair. That is, do pairs with stronger interaction interaction strength tend to prime more? \n",
    "If you are curious, you can fill out this free response cell below and let us know.\n",
    "\n",
    "While no extra points will be awarded for this task, it may help you with your A2EC assignment."
   ]
  },
  {
   "cell_type": "code",
   "execution_count": null,
   "metadata": {
    "deletable": false,
    "nbgrader": {
     "cell_type": "code",
     "checksum": "a6dd57cc002466f1577445342b77086c",
     "grade": true,
     "grade_id": "cell-ffdc0d89ae6c3a20",
     "locked": false,
     "points": 0,
     "schema_version": 3,
     "solution": true
    }
   },
   "outputs": [],
   "source": [
    "# YOUR CODE HERE\n",
    "raise NotImplementedError()"
   ]
  },
  {
   "cell_type": "markdown",
   "metadata": {
    "deletable": false,
    "editable": false,
    "nbgrader": {
     "cell_type": "markdown",
     "checksum": "2f6801b41d13c0658a13ea2c2a40e639",
     "grade": false,
     "grade_id": "cell-ba9e5889d67bd082",
     "locked": true,
     "schema_version": 3,
     "solution": false
    }
   },
   "source": [
    "### Can't get enough of language and information?  \n",
    "\n",
    "We have more!  Check out **A2ExtraCredit** for a chance to analyze Game of Thrones data and get some super-valuable extra credit points.  **Highly recommended**"
   ]
  },
  {
   "cell_type": "markdown",
   "metadata": {
    "deletable": false,
    "editable": false,
    "nbgrader": {
     "cell_type": "markdown",
     "checksum": "75b405e53f6df9f565cb905b6df2912b",
     "grade": false,
     "grade_id": "cell-2b384eeccb7e4ae1",
     "locked": true,
     "schema_version": 3,
     "solution": false
    }
   },
   "source": [
    "# This is the end of Assignment 2"
   ]
  }
 ],
 "metadata": {
  "kernelspec": {
   "display_name": "Python 3",
   "language": "python",
   "name": "python3"
  },
  "language_info": {
   "codemirror_mode": {
    "name": "ipython",
    "version": 3
   },
   "file_extension": ".py",
   "mimetype": "text/x-python",
   "name": "python",
   "nbconvert_exporter": "python",
   "pygments_lexer": "ipython3",
   "version": "3.7.4"
  }
 },
 "nbformat": 4,
 "nbformat_minor": 2
}
