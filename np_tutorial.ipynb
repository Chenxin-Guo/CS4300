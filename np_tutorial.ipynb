{
 "cells": [
  {
   "cell_type": "markdown",
   "metadata": {},
   "source": [
    "# Numpy Tutorial\n",
    "\n",
    "For the rest of the assignments (and your final project), you will be using one of Python's scientific computing packages called _numpy_. This will be a short tutorial of numpy basics that you'll likely encounter in your assignments. However, you are not limited to using the numpy methods that are introduced in this tutorial – feel free to explore more complex numpy functions.\n",
    "\n",
    "**Credit**: This tutorial is an interactive adaptation of the Quickstart tutorial on the SciPy Documentation website. All credit goes to the official SciPy Documentation page: https://docs.scipy.org/doc/numpy-dev/user/quickstart.html\n",
    "\n",
    "## Resources\n",
    "\n",
    "Here are some other helpful online resources that you can also review to learn numpy:\n",
    "\n",
    "- https://s3.amazonaws.com/assets.datacamp.com/blog_assets/Numpy_Python_Cheat_Sheet.pdf\n",
    "- http://cs231n.github.io/python-numpy-tutorial/\n",
    "- https://www.tutorialspoint.com/numpy/index.htm"
   ]
  },
  {
   "cell_type": "code",
   "execution_count": 1,
   "metadata": {},
   "outputs": [],
   "source": [
    "import numpy as np\n",
    "from timeit import Timer"
   ]
  },
  {
   "cell_type": "markdown",
   "metadata": {},
   "source": [
    "## Why numpy?\n",
    "\n",
    "Numpy is a package that contains many routines for fast matrix and vector operations. Behind the scenes, rather than executing slow Python code, numpy functions often execute code that is compiled and highly optimized. Let's take a look at a simple example.\n",
    "\n",
    "Here, we create a 10000-element sequence of increasing numbers (0...9999) with two different approaches: one using numpy and one using regular Python list functions. We use Python Timers to find the time it takes to sum the elements in each sequence 10000 times."
   ]
  },
  {
   "cell_type": "code",
   "execution_count": 2,
   "metadata": {},
   "outputs": [
    {
     "name": "stdout",
     "output_type": "stream",
     "text": [
      "numpy execution time: 0.086\n",
      "list execution time: 1.177\n"
     ]
    }
   ],
   "source": [
    "# Create 10000-element sequences\n",
    "x = np.arange(10000)\n",
    "y = range(10000)\n",
    "\n",
    "# Create timers and time sum function\n",
    "numpy_time = Timer(\"x.sum()\", \"from __main__ import x\").timeit(10000)\n",
    "list_time = Timer(\"sum(y)\", \"from __main__ import y\").timeit(10000)\n",
    "\n",
    "# Visualize execution time difference\n",
    "print(\"numpy execution time: %.3f\" % numpy_time)\n",
    "print(\"list execution time: %.3f\" % list_time)"
   ]
  },
  {
   "cell_type": "markdown",
   "metadata": {},
   "source": [
    "As you can see, the numpy function runs significantly faster. In your assignments, you'll be working with large amounts of data, so **using numpy will save you tons of time**. "
   ]
  },
  {
   "cell_type": "markdown",
   "metadata": {},
   "source": [
    "## 1: Basic Structure\n",
    "\n",
    "Numpy works with multidimensional arrays. A numpy array is a table of elements (much like nested arrays in Python), except all elements are of the same type. \n",
    " \n",
    "Numpy's array class is called `ndarray` and some of its most useful attributes include:\n",
    " \n",
    "`ndarray.ndim`: the number of axes (dimensions) of the array \n",
    "\n",
    "`ndarray.shape`: the dimensions of the array as a tuple _(m,n)_ for a matrix with _m_ rows and _n_ columns \n",
    "\n",
    "`ndarray.size`: the total number of elements in the array  \n",
    "\n",
    "`ndarray.dtype`: the type of the elements in the array (i.e. `numpy.int32`, `numpy.float64`)\n",
    "\n",
    "Let's use the above attributes to analyze the following array:\n",
    "\n",
    "```\n",
    "[[ 3., 4., 2.],\n",
    " [ 1., 0., 2.]]\n",
    " ```"
   ]
  },
  {
   "cell_type": "code",
   "execution_count": 2,
   "metadata": {},
   "outputs": [
    {
     "name": "stdout",
     "output_type": "stream",
     "text": [
      "-- Array --\n",
      "[[3. 4. 2.]\n",
      " [1. 0. 2.]]\n",
      "\n",
      "-- Array Attributes --\n",
      "Number of dimensions: 2\n",
      "Number of rows: 2\n",
      "Number of cols: 3\n",
      "Number of elements: 6\n",
      "Array type: <class 'numpy.ndarray'>\n",
      "Type of elements: float64\n"
     ]
    }
   ],
   "source": [
    "a = np.array([[ 3., 4., 2.], [ 1., 0., 2.]])\n",
    "\n",
    "# Take a look at the array\n",
    "print(\"-- Array --\\n{}\".format(a), end=\"\\n\\n\")\n",
    "print(\"-- Array Attributes --\")\n",
    "\n",
    "# How many dimensions is the array?\n",
    "print(\"Number of dimensions: {}\".format(a.ndim))\n",
    "\n",
    "# How many rows and columns are there?\n",
    "print(\"Number of rows: {}\".format(a.shape[0]))\n",
    "print(\"Number of cols: {}\".format(a.shape[1]))\n",
    "\n",
    "# How many elements are in the array?\n",
    "print(\"Number of elements: {}\".format(a.size))\n",
    "\n",
    "# What type is the array?\n",
    "print(\"Array type: {}\".format(type(a)))\n",
    "\n",
    "# What type are the elements in the array?\n",
    "print(\"Type of elements: {}\".format(a.dtype))"
   ]
  },
  {
   "cell_type": "markdown",
   "metadata": {},
   "source": [
    "## 2: Printing Arrays\n",
    "\n",
    "Numpy prints arrays in the following layout:\n",
    "\n",
    "- the last axis is printed from left to right\n",
    "- the second-to-last axis is printed from top to bottom\n",
    "- the rest are also printed from top to bottom\n",
    "\n",
    "One dimensional array example:\n",
    "\n",
    "```\n",
    "[0. 1. 2.]\n",
    "```\n",
    "\n",
    "Two-dimensional array example: \n",
    "\n",
    "```\n",
    "[[0. 1. 2.]\n",
    " [3. 4. 5.]]\n",
    "```\n",
    "\n",
    "Three-dimensional array example:\n",
    "\n",
    "```\n",
    "[[[0. 1. 2.]]\n",
    "\n",
    " [[3. 4. 5.]]]\n",
    "```\n",
    "\n",
    "To demonstrate printing numpy arrays, we will use the following function:\n",
    "\n",
    "`ndarray.reshape`: give a new shape to an array without changing its data."
   ]
  },
  {
   "cell_type": "code",
   "execution_count": 7,
   "metadata": {},
   "outputs": [
    {
     "name": "stdout",
     "output_type": "stream",
     "text": [
      "-- Small Array --\n",
      "[0 1 2 3 4] \n",
      "\n",
      "-- Large Array --\n",
      "[  0   1   2   3   4   5   6   7   8   9  10  11  12  13  14  15  16  17\n",
      "  18  19  20  21  22  23  24  25  26  27  28  29  30  31  32  33  34  35\n",
      "  36  37  38  39  40  41  42  43  44  45  46  47  48  49  50  51  52  53\n",
      "  54  55  56  57  58  59  60  61  62  63  64  65  66  67  68  69  70  71\n",
      "  72  73  74  75  76  77  78  79  80  81  82  83  84  85  86  87  88  89\n",
      "  90  91  92  93  94  95  96  97  98  99 100 101 102 103 104 105 106 107\n",
      " 108 109 110 111 112 113 114 115 116 117 118 119 120 121 122 123 124 125\n",
      " 126 127 128 129 130 131 132 133 134 135 136 137 138 139 140 141 142 143\n",
      " 144 145 146 147 148 149 150 151 152 153 154 155 156 157 158 159 160 161\n",
      " 162 163 164 165 166 167 168 169 170 171 172 173 174 175 176 177 178 179\n",
      " 180 181 182 183 184 185 186 187 188 189 190 191 192 193 194 195 196 197\n",
      " 198 199 200 201 202 203 204 205 206 207 208 209 210 211 212 213 214 215\n",
      " 216 217 218 219 220 221 222 223 224 225 226 227 228 229 230 231 232 233\n",
      " 234 235 236 237 238 239 240 241 242 243 244 245 246 247 248 249 250 251\n",
      " 252 253 254 255 256 257 258 259 260 261 262 263 264 265 266 267 268 269\n",
      " 270 271 272 273 274 275 276 277 278 279 280 281 282 283 284 285 286 287\n",
      " 288 289 290 291 292 293 294 295 296 297 298 299 300 301 302 303 304 305\n",
      " 306 307 308 309 310 311 312 313 314 315 316 317 318 319 320 321 322 323\n",
      " 324 325 326 327 328 329 330 331 332 333 334 335 336 337 338 339 340 341\n",
      " 342 343 344 345 346 347 348 349 350 351 352 353 354 355 356 357 358 359\n",
      " 360 361 362 363 364 365 366 367 368 369 370 371 372 373 374 375 376 377\n",
      " 378 379 380 381 382 383 384 385 386 387 388 389 390 391 392 393 394 395\n",
      " 396 397 398 399 400 401 402 403 404 405 406 407 408 409 410 411 412 413\n",
      " 414 415 416 417 418 419 420 421 422 423 424 425 426 427 428 429 430 431\n",
      " 432 433 434 435 436 437 438 439 440 441 442 443 444 445 446 447 448 449\n",
      " 450 451 452 453 454 455 456 457 458 459 460 461 462 463 464 465 466 467\n",
      " 468 469 470 471 472 473 474 475 476 477 478 479 480 481 482 483 484 485\n",
      " 486 487 488 489 490 491 492 493 494 495 496 497 498 499 500 501 502 503\n",
      " 504 505 506 507 508 509 510 511 512 513 514 515 516 517 518 519 520 521\n",
      " 522 523 524 525 526 527 528 529 530 531 532 533 534 535 536 537 538 539\n",
      " 540 541 542 543 544 545 546 547 548 549 550 551 552 553 554 555 556 557\n",
      " 558 559 560 561 562 563 564 565 566 567 568 569 570 571 572 573 574 575\n",
      " 576 577 578 579 580 581 582 583 584 585 586 587 588 589 590 591 592 593\n",
      " 594 595 596 597 598 599 600 601 602 603 604 605 606 607 608 609 610 611\n",
      " 612 613 614 615 616 617 618 619 620 621 622 623 624 625 626 627 628 629\n",
      " 630 631 632 633 634 635 636 637 638 639 640 641 642 643 644 645 646 647\n",
      " 648 649 650 651 652 653 654 655 656 657 658 659 660 661 662 663 664 665\n",
      " 666 667 668 669 670 671 672 673 674 675 676 677 678 679 680 681 682 683\n",
      " 684 685 686 687 688 689 690 691 692 693 694 695 696 697 698 699 700 701\n",
      " 702 703 704 705 706 707 708 709 710 711 712 713 714 715 716 717 718 719\n",
      " 720 721 722 723 724 725 726 727 728 729 730 731 732 733 734 735 736 737\n",
      " 738 739 740 741 742 743 744 745 746 747 748 749 750 751 752 753 754 755\n",
      " 756 757 758 759 760 761 762 763 764 765 766 767 768 769 770 771 772 773\n",
      " 774 775 776 777 778 779 780 781 782 783 784 785 786 787 788 789 790 791\n",
      " 792 793 794 795 796 797 798 799 800 801 802 803 804 805 806 807 808 809\n",
      " 810 811 812 813 814 815 816 817 818 819 820 821 822 823 824 825 826 827\n",
      " 828 829 830 831 832 833 834 835 836 837 838 839 840 841 842 843 844 845\n",
      " 846 847 848 849 850 851 852 853 854 855 856 857 858 859 860 861 862 863\n",
      " 864 865 866 867 868 869 870 871 872 873 874 875 876 877 878 879 880 881\n",
      " 882 883 884 885 886 887 888 889 890 891 892 893 894 895 896 897 898 899\n",
      " 900 901 902 903 904 905 906 907 908 909 910 911 912 913 914 915 916 917\n",
      " 918 919 920 921 922 923 924 925 926 927 928 929 930 931 932 933 934 935\n",
      " 936 937 938 939 940 941 942 943 944 945 946 947 948 949 950 951 952 953\n",
      " 954 955 956 957 958 959 960 961 962 963 964 965 966 967 968 969 970 971\n",
      " 972 973 974 975 976 977 978 979 980 981 982 983 984 985 986 987 988 989\n",
      " 990 991 992 993 994 995 996 997 998 999] \n",
      "\n",
      "-- Large Multidimensional Array --\n",
      "[[  0   1   2   3   4]\n",
      " [  5   6   7   8   9]\n",
      " [ 10  11  12  13  14]\n",
      " [ 15  16  17  18  19]\n",
      " [ 20  21  22  23  24]\n",
      " [ 25  26  27  28  29]\n",
      " [ 30  31  32  33  34]\n",
      " [ 35  36  37  38  39]\n",
      " [ 40  41  42  43  44]\n",
      " [ 45  46  47  48  49]\n",
      " [ 50  51  52  53  54]\n",
      " [ 55  56  57  58  59]\n",
      " [ 60  61  62  63  64]\n",
      " [ 65  66  67  68  69]\n",
      " [ 70  71  72  73  74]\n",
      " [ 75  76  77  78  79]\n",
      " [ 80  81  82  83  84]\n",
      " [ 85  86  87  88  89]\n",
      " [ 90  91  92  93  94]\n",
      " [ 95  96  97  98  99]\n",
      " [100 101 102 103 104]\n",
      " [105 106 107 108 109]\n",
      " [110 111 112 113 114]\n",
      " [115 116 117 118 119]\n",
      " [120 121 122 123 124]\n",
      " [125 126 127 128 129]\n",
      " [130 131 132 133 134]\n",
      " [135 136 137 138 139]\n",
      " [140 141 142 143 144]\n",
      " [145 146 147 148 149]\n",
      " [150 151 152 153 154]\n",
      " [155 156 157 158 159]\n",
      " [160 161 162 163 164]\n",
      " [165 166 167 168 169]\n",
      " [170 171 172 173 174]\n",
      " [175 176 177 178 179]\n",
      " [180 181 182 183 184]\n",
      " [185 186 187 188 189]\n",
      " [190 191 192 193 194]\n",
      " [195 196 197 198 199]\n",
      " [200 201 202 203 204]\n",
      " [205 206 207 208 209]\n",
      " [210 211 212 213 214]\n",
      " [215 216 217 218 219]\n",
      " [220 221 222 223 224]\n",
      " [225 226 227 228 229]\n",
      " [230 231 232 233 234]\n",
      " [235 236 237 238 239]\n",
      " [240 241 242 243 244]\n",
      " [245 246 247 248 249]\n",
      " [250 251 252 253 254]\n",
      " [255 256 257 258 259]\n",
      " [260 261 262 263 264]\n",
      " [265 266 267 268 269]\n",
      " [270 271 272 273 274]\n",
      " [275 276 277 278 279]\n",
      " [280 281 282 283 284]\n",
      " [285 286 287 288 289]\n",
      " [290 291 292 293 294]\n",
      " [295 296 297 298 299]\n",
      " [300 301 302 303 304]\n",
      " [305 306 307 308 309]\n",
      " [310 311 312 313 314]\n",
      " [315 316 317 318 319]\n",
      " [320 321 322 323 324]\n",
      " [325 326 327 328 329]\n",
      " [330 331 332 333 334]\n",
      " [335 336 337 338 339]\n",
      " [340 341 342 343 344]\n",
      " [345 346 347 348 349]\n",
      " [350 351 352 353 354]\n",
      " [355 356 357 358 359]\n",
      " [360 361 362 363 364]\n",
      " [365 366 367 368 369]\n",
      " [370 371 372 373 374]\n",
      " [375 376 377 378 379]\n",
      " [380 381 382 383 384]\n",
      " [385 386 387 388 389]\n",
      " [390 391 392 393 394]\n",
      " [395 396 397 398 399]\n",
      " [400 401 402 403 404]\n",
      " [405 406 407 408 409]\n",
      " [410 411 412 413 414]\n",
      " [415 416 417 418 419]\n",
      " [420 421 422 423 424]\n",
      " [425 426 427 428 429]\n",
      " [430 431 432 433 434]\n",
      " [435 436 437 438 439]\n",
      " [440 441 442 443 444]\n",
      " [445 446 447 448 449]\n",
      " [450 451 452 453 454]\n",
      " [455 456 457 458 459]\n",
      " [460 461 462 463 464]\n",
      " [465 466 467 468 469]\n",
      " [470 471 472 473 474]\n",
      " [475 476 477 478 479]\n",
      " [480 481 482 483 484]\n",
      " [485 486 487 488 489]\n",
      " [490 491 492 493 494]\n",
      " [495 496 497 498 499]\n",
      " [500 501 502 503 504]\n",
      " [505 506 507 508 509]\n",
      " [510 511 512 513 514]\n",
      " [515 516 517 518 519]\n",
      " [520 521 522 523 524]\n",
      " [525 526 527 528 529]\n",
      " [530 531 532 533 534]\n",
      " [535 536 537 538 539]\n",
      " [540 541 542 543 544]\n",
      " [545 546 547 548 549]\n",
      " [550 551 552 553 554]\n",
      " [555 556 557 558 559]\n",
      " [560 561 562 563 564]\n",
      " [565 566 567 568 569]\n",
      " [570 571 572 573 574]\n",
      " [575 576 577 578 579]\n",
      " [580 581 582 583 584]\n",
      " [585 586 587 588 589]\n",
      " [590 591 592 593 594]\n",
      " [595 596 597 598 599]\n",
      " [600 601 602 603 604]\n",
      " [605 606 607 608 609]\n",
      " [610 611 612 613 614]\n",
      " [615 616 617 618 619]\n",
      " [620 621 622 623 624]\n",
      " [625 626 627 628 629]\n",
      " [630 631 632 633 634]\n",
      " [635 636 637 638 639]\n",
      " [640 641 642 643 644]\n",
      " [645 646 647 648 649]\n",
      " [650 651 652 653 654]\n",
      " [655 656 657 658 659]\n",
      " [660 661 662 663 664]\n",
      " [665 666 667 668 669]\n",
      " [670 671 672 673 674]\n",
      " [675 676 677 678 679]\n",
      " [680 681 682 683 684]\n",
      " [685 686 687 688 689]\n",
      " [690 691 692 693 694]\n",
      " [695 696 697 698 699]\n",
      " [700 701 702 703 704]\n",
      " [705 706 707 708 709]\n",
      " [710 711 712 713 714]\n",
      " [715 716 717 718 719]\n",
      " [720 721 722 723 724]\n",
      " [725 726 727 728 729]\n",
      " [730 731 732 733 734]\n",
      " [735 736 737 738 739]\n",
      " [740 741 742 743 744]\n",
      " [745 746 747 748 749]\n",
      " [750 751 752 753 754]\n",
      " [755 756 757 758 759]\n",
      " [760 761 762 763 764]\n",
      " [765 766 767 768 769]\n",
      " [770 771 772 773 774]\n",
      " [775 776 777 778 779]\n",
      " [780 781 782 783 784]\n",
      " [785 786 787 788 789]\n",
      " [790 791 792 793 794]\n",
      " [795 796 797 798 799]\n",
      " [800 801 802 803 804]\n",
      " [805 806 807 808 809]\n",
      " [810 811 812 813 814]\n",
      " [815 816 817 818 819]\n",
      " [820 821 822 823 824]\n",
      " [825 826 827 828 829]\n",
      " [830 831 832 833 834]\n",
      " [835 836 837 838 839]\n",
      " [840 841 842 843 844]\n",
      " [845 846 847 848 849]\n",
      " [850 851 852 853 854]\n",
      " [855 856 857 858 859]\n",
      " [860 861 862 863 864]\n",
      " [865 866 867 868 869]\n",
      " [870 871 872 873 874]\n",
      " [875 876 877 878 879]\n",
      " [880 881 882 883 884]\n",
      " [885 886 887 888 889]\n",
      " [890 891 892 893 894]\n",
      " [895 896 897 898 899]\n",
      " [900 901 902 903 904]\n",
      " [905 906 907 908 909]\n",
      " [910 911 912 913 914]\n",
      " [915 916 917 918 919]\n",
      " [920 921 922 923 924]\n",
      " [925 926 927 928 929]\n",
      " [930 931 932 933 934]\n",
      " [935 936 937 938 939]\n",
      " [940 941 942 943 944]\n",
      " [945 946 947 948 949]\n",
      " [950 951 952 953 954]\n",
      " [955 956 957 958 959]\n",
      " [960 961 962 963 964]\n",
      " [965 966 967 968 969]\n",
      " [970 971 972 973 974]\n",
      " [975 976 977 978 979]\n",
      " [980 981 982 983 984]\n",
      " [985 986 987 988 989]\n",
      " [990 991 992 993 994]\n",
      " [995 996 997 998 999]] \n",
      "\n"
     ]
    }
   ],
   "source": [
    "# What happens when you print an array with a small number of elements?\n",
    "print(\"-- Small Array --\")\n",
    "print(np.arange(5), \"\\n\")\n",
    "\n",
    "# What happens when you print an array with a large number of elements?\n",
    "print(\"-- Large Array --\")\n",
    "print(np.arange(1000), \"\\n\") \n",
    "\n",
    "# What happens when you print a multidimensional array with a large number of elements?\n",
    "print(\"-- Large Multidimensional Array --\")\n",
    "print(np.arange(1000).reshape((200,5)), \"\\n\")"
   ]
  },
  {
   "cell_type": "markdown",
   "metadata": {},
   "source": [
    "## 3: Creating Arrays\n",
    "\n",
    "There are many different ways to create numpy arrays:\n",
    "\n",
    "`np.array`: creates an array from an existing data type    \n",
    "\n",
    "`np.zeros`: creates an array full of zeros  \n",
    "\n",
    "`np.ones`: creates an array full of ones  \n",
    "\n",
    "`np.empty`: creates an array with random elements (output varies - use with caution!)   \n",
    "\n",
    "`np.arange`: creates sequences of numbers"
   ]
  },
  {
   "cell_type": "markdown",
   "metadata": {},
   "source": [
    "### 3.1: Create an array from a regular Python list or tuple"
   ]
  },
  {
   "cell_type": "code",
   "execution_count": 12,
   "metadata": {},
   "outputs": [
    {
     "name": "stdout",
     "output_type": "stream",
     "text": [
      "-- int64 array--\n",
      "[0 1 2 3 4] \n",
      "\n",
      "-- float64 array--\n",
      "[1. 2.] \n",
      "\n",
      "-- float64 array--\n",
      "[[1.  2. ]\n",
      " [3.  4.5]] \n",
      "\n",
      "-- None array--\n",
      "None \n",
      "\n"
     ]
    }
   ],
   "source": [
    "# Single dimension int array\n",
    "a = np.arange(5)\n",
    "print(\"-- {} array--\".format(a.dtype))\n",
    "print(a, \"\\n\")\n",
    "\n",
    "# Single dimension float array\n",
    "b = np.array([1.0,2.0])\n",
    "print(\"-- {} array--\".format(b.dtype))\n",
    "print(b, \"\\n\")\n",
    "\n",
    "# What type is this array?\n",
    "c = np.array([[1,2], [3.0, 4.5]])\n",
    "print(\"-- {} array--\".format(c.dtype))\n",
    "print(c, \"\\n\")\n",
    "\n",
    "# Multidimensional array\n",
    "d = None\n",
    "print(\"-- {} array--\".format(None))\n",
    "print(d, \"\\n\")"
   ]
  },
  {
   "cell_type": "markdown",
   "metadata": {},
   "source": [
    "### 3.2: Specifying array dtype\n",
    "\n",
    "You can specify the `dtype` of an array during creation time."
   ]
  },
  {
   "cell_type": "code",
   "execution_count": 11,
   "metadata": {},
   "outputs": [
    {
     "name": "stdout",
     "output_type": "stream",
     "text": [
      "-- Comparing arrays a & b --\n",
      "[[ True  True  True]\n",
      " [ True  True  True]] \n",
      "\n",
      "-- Array c --\n",
      "[[1 2 3]\n",
      " [4 5 6]] \n",
      "\n",
      "-- Comparing arrays b & c --\n",
      "[[False  True  True]\n",
      " [ True  True  True]] \n",
      "\n"
     ]
    }
   ],
   "source": [
    "a = np.array([(1.5,2,3), (4,5,6)]) \n",
    "b = np.array([[1.5,2,3], [4,5,6]])\n",
    "\n",
    "# What do you think happens?\n",
    "print(\"-- Comparing arrays a & b --\")\n",
    "print(a == b, \"\\n\")\n",
    "\n",
    "# Specify array dtype as int\n",
    "print(\"-- Array c --\")\n",
    "c = np.array([[1.5,2,3], [4,5,6]], dtype = int)\n",
    "print(c, \"\\n\")\n",
    "\n",
    "# What do you think happens now?\n",
    "print(\"-- Comparing arrays b & c --\")\n",
    "print(b == c, \"\\n\")"
   ]
  },
  {
   "cell_type": "markdown",
   "metadata": {},
   "source": [
    "### 3.3: Create an array with autopopulated cells\n",
    "\n",
    "For the `zeros`, `ones`, and `empty` methods, you can specify the `shape` and `dtype` of the array. If you don't specify a specific  `dtype`, the array is by default `float64`."
   ]
  },
  {
   "cell_type": "code",
   "execution_count": 15,
   "metadata": {},
   "outputs": [
    {
     "name": "stdout",
     "output_type": "stream",
     "text": [
      "-- Zeros Array --\n",
      "[[0. 0. 0. 0.]\n",
      " [0. 0. 0. 0.]] \n",
      "\n",
      "-- Ones Array --\n",
      "[[1. 1. 1.]\n",
      " [1. 1. 1.]] \n",
      "\n",
      "-- Empty (Random) Array --\n",
      "[[ 0.00000000e+000  0.00000000e+000  0.00000000e+000]\n",
      " [ 0.00000000e+000  0.00000000e+000  0.00000000e+000]\n",
      " [ 0.00000000e+000  0.00000000e+000  0.00000000e+000]\n",
      " [ 0.00000000e+000  2.68156159e+154 -1.73059562e-077]] \n",
      "\n"
     ]
    }
   ],
   "source": [
    "# Create an array full of zeros\n",
    "a = np.zeros((2,4))\n",
    "print(\"-- Zeros Array --\")\n",
    "print(a, \"\\n\")\n",
    "\n",
    "# Create an array full of ones\n",
    "print(\"-- Ones Array --\")\n",
    "b = np.ones((2,3))\n",
    "print(b, \"\\n\")\n",
    "\n",
    "# Create an array of random values (uninitialized)\n",
    "print(\"-- Empty (Random) Array --\")\n",
    "c = np.empty((4,3))\n",
    "print(c, \"\\n\")"
   ]
  },
  {
   "cell_type": "markdown",
   "metadata": {},
   "source": [
    "### 3.4: Create an array as a sequence of numbers"
   ]
  },
  {
   "cell_type": "code",
   "execution_count": 17,
   "metadata": {},
   "outputs": [
    {
     "name": "stdout",
     "output_type": "stream",
     "text": [
      "-- Array created using only end value --\n",
      "[0 1 2 3 4]\n",
      "None \n",
      "\n",
      "-- Array created using start / end values --\n",
      "[2 3 4 5 6] \n",
      "\n",
      "-- Array created using start / end / step values --\n",
      "[2 5 8] \n",
      "\n"
     ]
    }
   ],
   "source": [
    "# Create array using only end value\n",
    "print(\"-- Array created using only end value --\")\n",
    "a = np.arange(5)\n",
    "b = None\n",
    "print(a)\n",
    "print(b, \"\\n\")\n",
    "\n",
    "# Create array using start / end values\n",
    "print(\"-- Array created using start / end values --\")\n",
    "c = np.arange(2,7)\n",
    "print(c, \"\\n\")\n",
    "\n",
    "# Create array using start / end / step values\n",
    "print(\"-- Array created using start / end / step values --\")\n",
    "d = np.arange(2,10,3)\n",
    "print(d, \"\\n\")"
   ]
  },
  {
   "cell_type": "markdown",
   "metadata": {},
   "source": [
    "## 4: Indexing, Slicing, and Iterating\n",
    "\n",
    "Similar to normal Python lists, you can perform indexing, slicing, and iterating operations on numpy arrays."
   ]
  },
  {
   "cell_type": "code",
   "execution_count": 18,
   "metadata": {},
   "outputs": [
    {
     "name": "stdout",
     "output_type": "stream",
     "text": [
      "-- Indexing / slicing on single dimension array ---\n",
      "[0 1 2 3 4 5 6 7 8 9]\n",
      "2\n",
      "[2 3 4]\n",
      "[2 4]\n",
      "\n",
      "-- Iterating through a single dimension numpy array --\n"
     ]
    }
   ],
   "source": [
    "# Single dimension array operations\n",
    "print(\"-- Indexing / slicing on single dimension array ---\")\n",
    "a = np.arange(10)\n",
    "print(a)\n",
    "print(a[2]) # Index\n",
    "print(a[2:5]) # Slice\n",
    "print(a[2:5:2]) # Slice with skips\n",
    "print()\n",
    "\n",
    "print(\"-- Iterating through a single dimension numpy array --\")\n",
    "# Iterate"
   ]
  },
  {
   "cell_type": "code",
   "execution_count": 23,
   "metadata": {},
   "outputs": [
    {
     "name": "stdout",
     "output_type": "stream",
     "text": [
      "-- Indexing / slicing on multidimensional array ---\n",
      "[[1 2 3]\n",
      " [4 5 6]\n",
      " [7 8 9]]\n",
      "[[1 2 3]\n",
      " [4 5 6]\n",
      " [7 8 9]]\n",
      "6\n",
      "[[5 6]]\n",
      "\n",
      "-- Iterating through rows of a multidimensional numpy array --\n",
      "[1 2 3]\n",
      "[4 5 6]\n",
      "[7 8 9]\n"
     ]
    }
   ],
   "source": [
    "# Multidimensional operations\n",
    "print(\"-- Indexing / slicing on multidimensional array ---\")\n",
    "b = np.array([[1,2,3], [4,5,6], [7,8,9]])\n",
    "print(b)\n",
    "print(b[:]) # Full slice\n",
    "print(b[1,2]) # Index\n",
    "print(b[1:2, 1:]) # Slice\n",
    "print()\n",
    "\n",
    "print(\"-- Iterating through rows of a multidimensional numpy array --\")\n",
    "# Iterate\n",
    "for row in b:\n",
    "    print(row)"
   ]
  },
  {
   "cell_type": "markdown",
   "metadata": {},
   "source": [
    "## 5: Important Numpy Operations\n",
    "\n",
    "For this course, it will be important to get familiar with some of the basic numpy matrix operations. In this section, we will introduce the numpy operations that you will likely need when completing future assignments."
   ]
  },
  {
   "cell_type": "markdown",
   "metadata": {},
   "source": [
    "### 5.1: Basic Arithmetic Operations\n",
    "\n",
    "Arithmetic operations in numpy are applied element-wise to the array. Note especially that this also applies to multiplication, unlike other matrix languages. Similarly, two arrays with matching dimensions can be operated on."
   ]
  },
  {
   "cell_type": "code",
   "execution_count": 26,
   "metadata": {},
   "outputs": [
    {
     "name": "stdout",
     "output_type": "stream",
     "text": [
      "-- Array-constant operations --\n",
      "[5 6 7 8]\n",
      "[-3 -2 -1  0]\n",
      "[ 4  8 12 16]\n",
      "[0.25 0.5  0.75 1.  ] \n",
      "\n",
      "-- Array-array operations --\n",
      "[2 4 6 8]\n",
      "[0 0 0 0]\n",
      "[ 1  4  9 16]\n",
      "[1. 1. 1. 1.] \n",
      "\n",
      "-- Using numpy array operations --\n",
      "[2 4 6 8]\n",
      "[0 0 0 0]\n",
      "[ 1  4  9 16]\n",
      "[1. 1. 1. 1.]\n"
     ]
    }
   ],
   "source": [
    "# Operating on arrays and constants\n",
    "print(\"-- Array-constant operations --\")\n",
    "a = np.array([1,2,3,4])\n",
    "print(a+4) # Add\n",
    "print(a-4) # Subtract\n",
    "print(a*4) # Multiply\n",
    "print(a/4, \"\\n\") # Divide\n",
    "\n",
    "# Operating on arrays\n",
    "print(\"-- Array-array operations --\")\n",
    "b = np.array([1,2,3,4])\n",
    "print(a+b) # Add\n",
    "print(a-b) # Subtract\n",
    "print(a*b) # Multiply\n",
    "print(a/b, \"\\n\") # Divide\n",
    "\n",
    "# Using numpy array operations  thisis faster\n",
    "print(\"-- Using numpy array operations --\")\n",
    "print(np.add(a,b)) # Add\n",
    "print(np.subtract(a,b)) # Subtract\n",
    "print(np.multiply(a,b)) # Multiply\n",
    "print(np.divide(a,b)) # Divide"
   ]
  },
  {
   "cell_type": "markdown",
   "metadata": {},
   "source": [
    "### 5.2: Dot Product\n",
    "\n",
    "Numpy has a built-in function for computing the dot product (inner product) of the array / matrix:\n",
    "\n",
    "`np.dot(a,b)`: computes the inner product between a and b. There are several different syntactic ways of expressing inner products. \n",
    "\n",
    "Suppose we have two arrays _a_ and _b_:\n",
    "\n",
    "```\n",
    "a = [1, 2, 3, 4]\n",
    "b = [0, 1, 2, 3]\n",
    "```\n",
    "\n",
    "A dot product of arrays _a_ and _b_ is calculated as follows:\n",
    "\n",
    "```\n",
    "(1 * 2) + (2 * 3) + (3 * 4) = 20\n",
    "```\n"
   ]
  },
  {
   "cell_type": "code",
   "execution_count": 28,
   "metadata": {},
   "outputs": [
    {
     "name": "stdout",
     "output_type": "stream",
     "text": [
      "-- Element-wise multiplication of two arrays --\n",
      "[ 0  2  6 12] \n",
      "\n",
      "-- Dot Product of two arrays --\n",
      "20\n",
      "20\n",
      "20\n",
      "None\n"
     ]
    }
   ],
   "source": [
    "a = np.array([1,2,3,4])\n",
    "b = np.array([0,1,2,3])\n",
    "\n",
    "# What type of result do you get when you multiply two arrays?\n",
    "print(\"-- Element-wise multiplication of two arrays --\")\n",
    "print(a*b, \"\\n\") \n",
    "\n",
    "# What type of result do you get when you find the dot product of two arrays?\n",
    "print(\"-- Dot Product of two arrays --\")\n",
    "print(np.dot(a,b))\n",
    "print(a.dot(b))\n",
    "print(b.dot(a))\n",
    "print()"
   ]
  },
  {
   "cell_type": "markdown",
   "metadata": {},
   "source": [
    "### 5.3: Useful Math Operations\n",
    "\n",
    "Here are some mathematical operations you may find useful:\n",
    "\n",
    "`np.sin(a)`: takes the sine of _a_\n",
    "\n",
    "`np.cos(a)`: takes the cosine of _a_\n",
    "\n",
    "`np.sqrt(a)`: takes the square root of _a_\n",
    "\n",
    "`np.tan(a)`: takes the tangent of _a_\n",
    "\n",
    "`np.exp(a)`: computes _$e^a$_ \n",
    "\n",
    "`np.sqrt(a)`: return the positive square-root of an array, element-wise"
   ]
  },
  {
   "cell_type": "code",
   "execution_count": 29,
   "metadata": {},
   "outputs": [
    {
     "name": "stdout",
     "output_type": "stream",
     "text": [
      "-- Numpy Math Operations --\n",
      "[ 0.84147098  0.90929743  0.14112001 -0.7568025 ]\n",
      "[ 0.54030231 -0.41614684 -0.9899925  -0.65364362]\n",
      "[ 1.55740772 -2.18503986 -0.14254654  1.15782128]\n",
      "[1.         1.41421356 1.73205081 2.        ]\n",
      "[ 2.71828183  7.3890561  20.08553692 54.59815003]\n"
     ]
    }
   ],
   "source": [
    "# Numpy Math Operations\n",
    "print(\"-- Numpy Math Operations --\")\n",
    "a = np.array([1,2,3,4])\n",
    "print(np.sin(a)) # sin\n",
    "print(np.cos(a)) # cos\n",
    "print(np.tan(a)) # tan\n",
    "print(np.sqrt(a)) # sqrt\n",
    "print(np.exp(a)) # exp"
   ]
  },
  {
   "cell_type": "markdown",
   "metadata": {},
   "source": [
    "### 5.4: Other Useful Operations"
   ]
  },
  {
   "cell_type": "markdown",
   "metadata": {},
   "source": [
    "`np.sum(a)`: computes the sum of all elements in the array \n",
    "\n",
    "To compute the summation along the rows or columns, add an axis parameter:\n",
    "\n",
    "- `axis=0` refers to COLUMNS\n",
    "\n",
    "- `axis=1` refers to ROWS"
   ]
  },
  {
   "cell_type": "code",
   "execution_count": 32,
   "metadata": {},
   "outputs": [
    {
     "name": "stdout",
     "output_type": "stream",
     "text": [
      "-- Summation of entire array --\n",
      "10 \n",
      "\n",
      "-- Summation along columns --\n",
      "[4 6] \n",
      "\n",
      "-- Summation along rows --\n",
      "[3 7] \n",
      "\n"
     ]
    }
   ],
   "source": [
    "a = np.array([[1,2],[3,4]])\n",
    "\n",
    "# Find summation of all elements in array\n",
    "print(\"-- Summation of entire array --\")\n",
    "print(np.sum(a), \"\\n\")\n",
    "\n",
    "# Find summation of elements along the columns\n",
    "print(\"-- Summation along columns --\")\n",
    "print(np.sum(a, axis = 0), \"\\n\")\n",
    "\n",
    "# Find summation of elements along the rows\n",
    "print(\"-- Summation along rows --\")\n",
    "print(np.sum(a, axis = 1), \"\\n\")"
   ]
  },
  {
   "cell_type": "markdown",
   "metadata": {},
   "source": [
    "`np.mean(a)`: computes the average of the entire matrix"
   ]
  },
  {
   "cell_type": "code",
   "execution_count": 33,
   "metadata": {},
   "outputs": [
    {
     "name": "stdout",
     "output_type": "stream",
     "text": [
      "-- Mean of entire array --\n",
      "2.0 \n",
      "\n",
      "-- Mean along columns --\n",
      "[2. 2. 2.] \n",
      "\n",
      "-- Mean along rows --\n",
      "[3. 1.] \n",
      "\n"
     ]
    }
   ],
   "source": [
    "a = np.array([[3, 4, 2], [1, 0, 2]])\n",
    "\n",
    "# Find mean of all elements in array\n",
    "print(\"-- Mean of entire array --\")\n",
    "print(np.mean(a), \"\\n\")\n",
    "\n",
    "# Find mean of elements along the columns\n",
    "print(\"-- Mean along columns --\")\n",
    "print(np.mean(a, axis = 0), \"\\n\")\n",
    "\n",
    "# Find mean of elements along the rows\n",
    "print(\"-- Mean along rows --\")\n",
    "print(np.mean(a, axis=1), \"\\n\")"
   ]
  },
  {
   "cell_type": "markdown",
   "metadata": {},
   "source": [
    "`np.log2(a)` computes the log in base 2 of all elements of a."
   ]
  },
  {
   "cell_type": "code",
   "execution_count": 34,
   "metadata": {},
   "outputs": [
    {
     "name": "stdout",
     "output_type": "stream",
     "text": [
      "[0.        1.        1.5849625]\n"
     ]
    }
   ],
   "source": [
    "a = np.array([1,2,3])\n",
    "print(np.log2(a))"
   ]
  },
  {
   "cell_type": "markdown",
   "metadata": {},
   "source": [
    "`np.copy(a)` is useful for copying arrays. It is different from assignment."
   ]
  },
  {
   "cell_type": "code",
   "execution_count": 36,
   "metadata": {},
   "outputs": [
    {
     "name": "stdout",
     "output_type": "stream",
     "text": [
      "-- Incorrect way to copy arrays --\n",
      "Array a before: [1 2 3]\n",
      "Array a after: [1 0 3]\n",
      "Array b: [1 0 3]\n",
      "\n",
      "-- Using numpy copy function --\n",
      "Array a before: [1 2 3]\n",
      "Array a after: [1 0 3]\n",
      "Array b: [1 2 3]\n"
     ]
    }
   ],
   "source": [
    "# Incorrect array copying method\n",
    "print(\"-- Incorrect way to copy arrays --\") # b will be changed as a changes\n",
    "a = np.array([1,2,3])\n",
    "b = a\n",
    "print(\"Array a before:\", a)\n",
    "a[1] = 0\n",
    "print(\"Array a after:\", a)\n",
    "print(\"Array b:\", b)\n",
    "print()\n",
    "\n",
    "# Using numpy copy function\n",
    "print(\"-- Using numpy copy function --\")\n",
    "a = np.array([1,2,3])\n",
    "b = np.copy(a)\n",
    "print(\"Array a before:\", a)\n",
    "a[1] = 0\n",
    "print(\"Array a after:\", a)\n",
    "print(\"Array b:\", b)"
   ]
  },
  {
   "cell_type": "markdown",
   "metadata": {},
   "source": [
    "`np.argsort(a)`: sorts _a_ and returns the indices of the sorted array"
   ]
  },
  {
   "cell_type": "code",
   "execution_count": 39,
   "metadata": {
    "scrolled": true
   },
   "outputs": [
    {
     "name": "stdout",
     "output_type": "stream",
     "text": [
      "-- Sort array --\n",
      "[1 2 0] \n",
      "\n",
      "-- Sort array along columns --\n",
      "[[1 0 0]\n",
      " [0 1 1]] \n",
      "\n",
      "-- Sort array along rows --\n",
      "[[1 2 0]\n",
      " [0 2 1]]\n"
     ]
    }
   ],
   "source": [
    "# Sort array\n",
    "print(\"-- Sort array --\")\n",
    "a = np.array([3, 1, 2])\n",
    "print(np.argsort(a),  \"\\n\")\n",
    "\n",
    "# Sort array online accesses\n",
    "b = np.array([[4, 1, 2], [3, 6, 5]])\n",
    "\n",
    "print(\"-- Sort array along columns --\")\n",
    "print(np.argsort(b, axis = 0), \"\\n\")\n",
    "\n",
    "print(\"-- Sort array along rows --\")\n",
    "print(np.argsort(b, axis = 1))"
   ]
  },
  {
   "cell_type": "markdown",
   "metadata": {},
   "source": [
    "`np.argmin(a)`: return the indices of the minimum values along an axis  \n",
    "\n",
    "`np.argmax(a)`: return the indices of the maximum values along an axis"
   ]
  },
  {
   "cell_type": "code",
   "execution_count": 43,
   "metadata": {},
   "outputs": [
    {
     "name": "stdout",
     "output_type": "stream",
     "text": [
      "-- Original matrix --\n",
      "[[1 2 3]\n",
      " [4 5 6]] \n",
      "\n",
      "-- Flattened array --\n",
      "Min: 0\n",
      "Max: 5 \n",
      "\n",
      "-- Along Columns --\n",
      "Min: None\n",
      "Max: None \n",
      "\n",
      "-- Along Rows --\n",
      "Min: None\n",
      "Max: None\n"
     ]
    }
   ],
   "source": [
    "a = np.arange(1,7).reshape(2,3)\n",
    "print(\"-- Original matrix --\")\n",
    "print(a, \"\\n\")\n",
    "\n",
    "# By default, index is into flattened array\n",
    "print(\"-- Flattened array --\")\n",
    "print(\"Min:\", np.argmin(a))\n",
    "print(\"Max:\", np.argmax(a), \"\\n\")\n",
    "\n",
    "# Indices of max values along columns\n",
    "print(\"-- Along Columns --\")\n",
    "print(\"Min:\", None)\n",
    "print(\"Max:\", None, \"\\n\")\n",
    "\n",
    "# Indices of max values along rows\n",
    "print(\"-- Along Rows --\")\n",
    "print(\"Min:\", None)\n",
    "print(\"Max:\", None)"
   ]
  },
  {
   "cell_type": "markdown",
   "metadata": {},
   "source": [
    "`np.linalg.norm(a)`: return a matrix norm (2-norm by default)"
   ]
  },
  {
   "cell_type": "code",
   "execution_count": 20,
   "metadata": {},
   "outputs": [
    {
     "name": "stdout",
     "output_type": "stream",
     "text": [
      "None\n"
     ]
    }
   ],
   "source": [
    "a = np.array([1,2,3])\n",
    "print(None)"
   ]
  },
  {
   "cell_type": "markdown",
   "metadata": {},
   "source": [
    "`np.transpose`: permute the dimensions of an array"
   ]
  },
  {
   "cell_type": "code",
   "execution_count": 44,
   "metadata": {},
   "outputs": [
    {
     "name": "stdout",
     "output_type": "stream",
     "text": [
      "-- Normal Matrix --\n",
      "[[0 1]\n",
      " [2 3]] \n",
      "\n",
      "-- Transposed Matrix --\n",
      "[[0 2]\n",
      " [1 3]]\n"
     ]
    }
   ],
   "source": [
    "a = np.arange(4).reshape((2,2))\n",
    "print(\"-- Normal Matrix --\")\n",
    "print(a, \"\\n\")\n",
    "\n",
    "print(\"-- Transposed Matrix --\")\n",
    "print(np.transpose(a))"
   ]
  },
  {
   "cell_type": "markdown",
   "metadata": {},
   "source": [
    "`np.intersect1d`: find the intersection of two arrays"
   ]
  },
  {
   "cell_type": "code",
   "execution_count": 54,
   "metadata": {
    "scrolled": true
   },
   "outputs": [
    {
     "name": "stdout",
     "output_type": "stream",
     "text": [
      "[1 3]\n",
      "[1 3]\n"
     ]
    }
   ],
   "source": [
    "a = np.intersect1d([1, 3, 4, 3], [3, 1, 2, 1])\n",
    "b = np.intersect1d([[1, 3], [4, 3]],[ [3, 1], [2, 1]])\n",
    "print(a)\n",
    "print(b)"
   ]
  },
  {
   "cell_type": "markdown",
   "metadata": {},
   "source": [
    "`np.union1d`: find the union of two arrays"
   ]
  },
  {
   "cell_type": "code",
   "execution_count": 23,
   "metadata": {},
   "outputs": [
    {
     "name": "stdout",
     "output_type": "stream",
     "text": [
      "None\n"
     ]
    }
   ],
   "source": [
    "a = np.union1d([1, 3, 2], [5, 2, 4])\n",
    "print(None)"
   ]
  },
  {
   "cell_type": "markdown",
   "metadata": {},
   "source": [
    "`np.fill_diagonal`: Fill the main diagonal of the given array with some value"
   ]
  },
  {
   "cell_type": "code",
   "execution_count": 49,
   "metadata": {},
   "outputs": [
    {
     "name": "stdout",
     "output_type": "stream",
     "text": [
      "-- Before Matrix --\n",
      "[[1. 1. 1. 1.]\n",
      " [1. 1. 1. 1.]\n",
      " [1. 1. 1. 1.]\n",
      " [1. 1. 1. 1.]] \n",
      "\n",
      "-- After Matrix --\n",
      "[[2. 1. 1. 1.]\n",
      " [1. 2. 1. 1.]\n",
      " [1. 1. 2. 1.]\n",
      " [1. 1. 1. 2.]]\n"
     ]
    }
   ],
   "source": [
    "a = np.ones((4, 4))\n",
    "print(\"-- Before Matrix --\")\n",
    "print(a, \"\\n\")\n",
    "\n",
    "print(\"-- After Matrix --\")\n",
    "# TODO: Fill diagonal here\n",
    "np.fill_diagonal(a,2)\n",
    "print(a)"
   ]
  },
  {
   "cell_type": "code",
   "execution_count": null,
   "metadata": {},
   "outputs": [],
   "source": []
  }
 ],
 "metadata": {
  "kernelspec": {
   "display_name": "Python 3",
   "language": "python",
   "name": "python3"
  },
  "language_info": {
   "codemirror_mode": {
    "name": "ipython",
    "version": 3
   },
   "file_extension": ".py",
   "mimetype": "text/x-python",
   "name": "python",
   "nbconvert_exporter": "python",
   "pygments_lexer": "ipython3",
   "version": "3.7.4"
  }
 },
 "nbformat": 4,
 "nbformat_minor": 2
}
